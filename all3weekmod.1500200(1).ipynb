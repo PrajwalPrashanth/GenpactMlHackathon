{
 "cells": [
  {
   "cell_type": "markdown",
   "metadata": {},
   "source": [
    "## Imports"
   ]
  },
  {
   "cell_type": "code",
   "execution_count": 1,
   "metadata": {},
   "outputs": [],
   "source": [
    "%reload_ext autoreload\n",
    "%autoreload 2"
   ]
  },
  {
   "cell_type": "code",
   "execution_count": 2,
   "metadata": {},
   "outputs": [],
   "source": [
    "from fastai import *\n",
    "from fastai.tabular import *"
   ]
  },
  {
   "cell_type": "markdown",
   "metadata": {},
   "source": [
    "## Train table "
   ]
  },
  {
   "cell_type": "code",
   "execution_count": 3,
   "metadata": {},
   "outputs": [],
   "source": [
    "train_df = pd.read_csv('train.csv')"
   ]
  },
  {
   "cell_type": "code",
   "execution_count": 4,
   "metadata": {},
   "outputs": [
    {
     "data": {
      "text/html": [
       "<div>\n",
       "<style scoped>\n",
       "    .dataframe tbody tr th:only-of-type {\n",
       "        vertical-align: middle;\n",
       "    }\n",
       "\n",
       "    .dataframe tbody tr th {\n",
       "        vertical-align: top;\n",
       "    }\n",
       "\n",
       "    .dataframe thead th {\n",
       "        text-align: right;\n",
       "    }\n",
       "</style>\n",
       "<table border=\"1\" class=\"dataframe\">\n",
       "  <thead>\n",
       "    <tr style=\"text-align: right;\">\n",
       "      <th></th>\n",
       "      <th>0</th>\n",
       "      <th>1</th>\n",
       "      <th>2</th>\n",
       "      <th>3</th>\n",
       "      <th>4</th>\n",
       "    </tr>\n",
       "  </thead>\n",
       "  <tbody>\n",
       "    <tr>\n",
       "      <th>id</th>\n",
       "      <td>1379560.00</td>\n",
       "      <td>1466964.00</td>\n",
       "      <td>1346989.00</td>\n",
       "      <td>1338232.00</td>\n",
       "      <td>1448490.0</td>\n",
       "    </tr>\n",
       "    <tr>\n",
       "      <th>week</th>\n",
       "      <td>1.00</td>\n",
       "      <td>1.00</td>\n",
       "      <td>1.00</td>\n",
       "      <td>1.00</td>\n",
       "      <td>1.0</td>\n",
       "    </tr>\n",
       "    <tr>\n",
       "      <th>center_id</th>\n",
       "      <td>55.00</td>\n",
       "      <td>55.00</td>\n",
       "      <td>55.00</td>\n",
       "      <td>55.00</td>\n",
       "      <td>55.0</td>\n",
       "    </tr>\n",
       "    <tr>\n",
       "      <th>meal_id</th>\n",
       "      <td>1885.00</td>\n",
       "      <td>1993.00</td>\n",
       "      <td>2539.00</td>\n",
       "      <td>2139.00</td>\n",
       "      <td>2631.0</td>\n",
       "    </tr>\n",
       "    <tr>\n",
       "      <th>checkout_price</th>\n",
       "      <td>136.83</td>\n",
       "      <td>136.83</td>\n",
       "      <td>134.86</td>\n",
       "      <td>339.50</td>\n",
       "      <td>243.5</td>\n",
       "    </tr>\n",
       "    <tr>\n",
       "      <th>base_price</th>\n",
       "      <td>152.29</td>\n",
       "      <td>135.83</td>\n",
       "      <td>135.86</td>\n",
       "      <td>437.53</td>\n",
       "      <td>242.5</td>\n",
       "    </tr>\n",
       "    <tr>\n",
       "      <th>emailer_for_promotion</th>\n",
       "      <td>0.00</td>\n",
       "      <td>0.00</td>\n",
       "      <td>0.00</td>\n",
       "      <td>0.00</td>\n",
       "      <td>0.0</td>\n",
       "    </tr>\n",
       "    <tr>\n",
       "      <th>homepage_featured</th>\n",
       "      <td>0.00</td>\n",
       "      <td>0.00</td>\n",
       "      <td>0.00</td>\n",
       "      <td>0.00</td>\n",
       "      <td>0.0</td>\n",
       "    </tr>\n",
       "    <tr>\n",
       "      <th>num_orders</th>\n",
       "      <td>177.00</td>\n",
       "      <td>270.00</td>\n",
       "      <td>189.00</td>\n",
       "      <td>54.00</td>\n",
       "      <td>40.0</td>\n",
       "    </tr>\n",
       "  </tbody>\n",
       "</table>\n",
       "</div>"
      ],
      "text/plain": [
       "                                0           1           2           3  \\\n",
       "id                     1379560.00  1466964.00  1346989.00  1338232.00   \n",
       "week                         1.00        1.00        1.00        1.00   \n",
       "center_id                   55.00       55.00       55.00       55.00   \n",
       "meal_id                   1885.00     1993.00     2539.00     2139.00   \n",
       "checkout_price             136.83      136.83      134.86      339.50   \n",
       "base_price                 152.29      135.83      135.86      437.53   \n",
       "emailer_for_promotion        0.00        0.00        0.00        0.00   \n",
       "homepage_featured            0.00        0.00        0.00        0.00   \n",
       "num_orders                 177.00      270.00      189.00       54.00   \n",
       "\n",
       "                               4  \n",
       "id                     1448490.0  \n",
       "week                         1.0  \n",
       "center_id                   55.0  \n",
       "meal_id                   2631.0  \n",
       "checkout_price             243.5  \n",
       "base_price                 242.5  \n",
       "emailer_for_promotion        0.0  \n",
       "homepage_featured            0.0  \n",
       "num_orders                  40.0  "
      ]
     },
     "execution_count": 4,
     "metadata": {},
     "output_type": "execute_result"
    }
   ],
   "source": [
    "train_df.head().T"
   ]
  },
  {
   "cell_type": "code",
   "execution_count": 5,
   "metadata": {},
   "outputs": [
    {
     "data": {
      "text/plain": [
       "(0, 1)"
      ]
     },
     "execution_count": 5,
     "metadata": {},
     "output_type": "execute_result"
    }
   ],
   "source": [
    "min(train_df['emailer_for_promotion']),max(train_df['emailer_for_promotion'])"
   ]
  },
  {
   "cell_type": "code",
   "execution_count": 6,
   "metadata": {},
   "outputs": [
    {
     "data": {
      "text/plain": [
       "<matplotlib.collections.PathCollection at 0x7f2ab60801d0>"
      ]
     },
     "execution_count": 6,
     "metadata": {},
     "output_type": "execute_result"
    },
    {
     "data": {
      "image/png": "[encoded data removed]",
      "text/plain": [
       "<Figure size 432x288 with 1 Axes>"
      ]
     },
     "metadata": {
      "needs_background": "light"
     },
     "output_type": "display_data"
    }
   ],
   "source": [
    "plt.scatter(range(0,456548),train_df['emailer_for_promotion'])"
   ]
  },
  {
   "cell_type": "code",
   "execution_count": 7,
   "metadata": {},
   "outputs": [
    {
     "data": {
      "text/plain": [
       "456548"
      ]
     },
     "execution_count": 7,
     "metadata": {},
     "output_type": "execute_result"
    }
   ],
   "source": [
    "len(train_df)"
   ]
  },
  {
   "cell_type": "markdown",
   "metadata": {},
   "source": [
    "## Test table\n",
    "file can be changed here for private test set"
   ]
  },
  {
   "cell_type": "code",
   "execution_count": 8,
   "metadata": {},
   "outputs": [],
   "source": [
    "test_df = pd.read_csv('test_QoiMO9B.csv')"
   ]
  },
  {
   "cell_type": "code",
   "execution_count": 9,
   "metadata": {},
   "outputs": [
    {
     "data": {
      "text/html": [
       "<div>\n",
       "<style scoped>\n",
       "    .dataframe tbody tr th:only-of-type {\n",
       "        vertical-align: middle;\n",
       "    }\n",
       "\n",
       "    .dataframe tbody tr th {\n",
       "        vertical-align: top;\n",
       "    }\n",
       "\n",
       "    .dataframe thead th {\n",
       "        text-align: right;\n",
       "    }\n",
       "</style>\n",
       "<table border=\"1\" class=\"dataframe\">\n",
       "  <thead>\n",
       "    <tr style=\"text-align: right;\">\n",
       "      <th></th>\n",
       "      <th>0</th>\n",
       "      <th>1</th>\n",
       "      <th>2</th>\n",
       "      <th>3</th>\n",
       "      <th>4</th>\n",
       "    </tr>\n",
       "  </thead>\n",
       "  <tbody>\n",
       "    <tr>\n",
       "      <th>id</th>\n",
       "      <td>1028232.00</td>\n",
       "      <td>1127204.00</td>\n",
       "      <td>1212707.00</td>\n",
       "      <td>1082698.00</td>\n",
       "      <td>1400926.00</td>\n",
       "    </tr>\n",
       "    <tr>\n",
       "      <th>week</th>\n",
       "      <td>146.00</td>\n",
       "      <td>146.00</td>\n",
       "      <td>146.00</td>\n",
       "      <td>146.00</td>\n",
       "      <td>146.00</td>\n",
       "    </tr>\n",
       "    <tr>\n",
       "      <th>center_id</th>\n",
       "      <td>55.00</td>\n",
       "      <td>55.00</td>\n",
       "      <td>55.00</td>\n",
       "      <td>55.00</td>\n",
       "      <td>55.00</td>\n",
       "    </tr>\n",
       "    <tr>\n",
       "      <th>meal_id</th>\n",
       "      <td>1885.00</td>\n",
       "      <td>1993.00</td>\n",
       "      <td>2539.00</td>\n",
       "      <td>2631.00</td>\n",
       "      <td>1248.00</td>\n",
       "    </tr>\n",
       "    <tr>\n",
       "      <th>checkout_price</th>\n",
       "      <td>158.11</td>\n",
       "      <td>160.11</td>\n",
       "      <td>157.14</td>\n",
       "      <td>162.02</td>\n",
       "      <td>163.93</td>\n",
       "    </tr>\n",
       "    <tr>\n",
       "      <th>base_price</th>\n",
       "      <td>159.11</td>\n",
       "      <td>159.11</td>\n",
       "      <td>159.14</td>\n",
       "      <td>162.02</td>\n",
       "      <td>163.93</td>\n",
       "    </tr>\n",
       "    <tr>\n",
       "      <th>emailer_for_promotion</th>\n",
       "      <td>0.00</td>\n",
       "      <td>0.00</td>\n",
       "      <td>0.00</td>\n",
       "      <td>0.00</td>\n",
       "      <td>0.00</td>\n",
       "    </tr>\n",
       "    <tr>\n",
       "      <th>homepage_featured</th>\n",
       "      <td>0.00</td>\n",
       "      <td>0.00</td>\n",
       "      <td>0.00</td>\n",
       "      <td>0.00</td>\n",
       "      <td>0.00</td>\n",
       "    </tr>\n",
       "  </tbody>\n",
       "</table>\n",
       "</div>"
      ],
      "text/plain": [
       "                                0           1           2           3  \\\n",
       "id                     1028232.00  1127204.00  1212707.00  1082698.00   \n",
       "week                       146.00      146.00      146.00      146.00   \n",
       "center_id                   55.00       55.00       55.00       55.00   \n",
       "meal_id                   1885.00     1993.00     2539.00     2631.00   \n",
       "checkout_price             158.11      160.11      157.14      162.02   \n",
       "base_price                 159.11      159.11      159.14      162.02   \n",
       "emailer_for_promotion        0.00        0.00        0.00        0.00   \n",
       "homepage_featured            0.00        0.00        0.00        0.00   \n",
       "\n",
       "                                4  \n",
       "id                     1400926.00  \n",
       "week                       146.00  \n",
       "center_id                   55.00  \n",
       "meal_id                   1248.00  \n",
       "checkout_price             163.93  \n",
       "base_price                 163.93  \n",
       "emailer_for_promotion        0.00  \n",
       "homepage_featured            0.00  "
      ]
     },
     "execution_count": 9,
     "metadata": {},
     "output_type": "execute_result"
    }
   ],
   "source": [
    "test_df.head().T"
   ]
  },
  {
   "cell_type": "code",
   "execution_count": 10,
   "metadata": {},
   "outputs": [
    {
     "data": {
      "text/plain": [
       "32573"
      ]
     },
     "execution_count": 10,
     "metadata": {},
     "output_type": "execute_result"
    }
   ],
   "source": [
    "len(test_df)"
   ]
  },
  {
   "cell_type": "markdown",
   "metadata": {},
   "source": [
    "## Other tables"
   ]
  },
  {
   "cell_type": "code",
   "execution_count": 11,
   "metadata": {},
   "outputs": [],
   "source": [
    "fci_df = pd.read_csv('fulfilment_center_info.csv')"
   ]
  },
  {
   "cell_type": "code",
   "execution_count": 12,
   "metadata": {},
   "outputs": [
    {
     "data": {
      "text/html": [
       "<div>\n",
       "<style scoped>\n",
       "    .dataframe tbody tr th:only-of-type {\n",
       "        vertical-align: middle;\n",
       "    }\n",
       "\n",
       "    .dataframe tbody tr th {\n",
       "        vertical-align: top;\n",
       "    }\n",
       "\n",
       "    .dataframe thead th {\n",
       "        text-align: right;\n",
       "    }\n",
       "</style>\n",
       "<table border=\"1\" class=\"dataframe\">\n",
       "  <thead>\n",
       "    <tr style=\"text-align: right;\">\n",
       "      <th></th>\n",
       "      <th>0</th>\n",
       "      <th>1</th>\n",
       "      <th>2</th>\n",
       "      <th>3</th>\n",
       "      <th>4</th>\n",
       "    </tr>\n",
       "  </thead>\n",
       "  <tbody>\n",
       "    <tr>\n",
       "      <th>center_id</th>\n",
       "      <td>11</td>\n",
       "      <td>13</td>\n",
       "      <td>124</td>\n",
       "      <td>66</td>\n",
       "      <td>94</td>\n",
       "    </tr>\n",
       "    <tr>\n",
       "      <th>city_code</th>\n",
       "      <td>679</td>\n",
       "      <td>590</td>\n",
       "      <td>590</td>\n",
       "      <td>648</td>\n",
       "      <td>632</td>\n",
       "    </tr>\n",
       "    <tr>\n",
       "      <th>region_code</th>\n",
       "      <td>56</td>\n",
       "      <td>56</td>\n",
       "      <td>56</td>\n",
       "      <td>34</td>\n",
       "      <td>34</td>\n",
       "    </tr>\n",
       "    <tr>\n",
       "      <th>center_type</th>\n",
       "      <td>TYPE_A</td>\n",
       "      <td>TYPE_B</td>\n",
       "      <td>TYPE_C</td>\n",
       "      <td>TYPE_A</td>\n",
       "      <td>TYPE_C</td>\n",
       "    </tr>\n",
       "    <tr>\n",
       "      <th>op_area</th>\n",
       "      <td>3.7</td>\n",
       "      <td>6.7</td>\n",
       "      <td>4</td>\n",
       "      <td>4.1</td>\n",
       "      <td>3.6</td>\n",
       "    </tr>\n",
       "  </tbody>\n",
       "</table>\n",
       "</div>"
      ],
      "text/plain": [
       "                  0       1       2       3       4\n",
       "center_id        11      13     124      66      94\n",
       "city_code       679     590     590     648     632\n",
       "region_code      56      56      56      34      34\n",
       "center_type  TYPE_A  TYPE_B  TYPE_C  TYPE_A  TYPE_C\n",
       "op_area         3.7     6.7       4     4.1     3.6"
      ]
     },
     "execution_count": 12,
     "metadata": {},
     "output_type": "execute_result"
    }
   ],
   "source": [
    "fci_df.head().T"
   ]
  },
  {
   "cell_type": "code",
   "execution_count": 13,
   "metadata": {},
   "outputs": [
    {
     "data": {
      "text/plain": [
       "77"
      ]
     },
     "execution_count": 13,
     "metadata": {},
     "output_type": "execute_result"
    }
   ],
   "source": [
    "len(fci_df)"
   ]
  },
  {
   "cell_type": "code",
   "execution_count": 14,
   "metadata": {},
   "outputs": [
    {
     "data": {
      "text/plain": [
       "<matplotlib.collections.PathCollection at 0x7f2ab6017f28>"
      ]
     },
     "execution_count": 14,
     "metadata": {},
     "output_type": "execute_result"
    },
    {
     "data": {
      "image/png": "[encoded data removed]",
      "text/plain": [
       "<Figure size 432x288 with 1 Axes>"
      ]
     },
     "metadata": {
      "needs_background": "light"
     },
     "output_type": "display_data"
    }
   ],
   "source": [
    "plt.scatter(range(0,77),fci_df['op_area'])"
   ]
  },
  {
   "cell_type": "code",
   "execution_count": 15,
   "metadata": {},
   "outputs": [],
   "source": [
    "mi_df= pd.read_csv('meal_info.csv')"
   ]
  },
  {
   "cell_type": "code",
   "execution_count": 16,
   "metadata": {},
   "outputs": [
    {
     "data": {
      "text/html": [
       "<div>\n",
       "<style scoped>\n",
       "    .dataframe tbody tr th:only-of-type {\n",
       "        vertical-align: middle;\n",
       "    }\n",
       "\n",
       "    .dataframe tbody tr th {\n",
       "        vertical-align: top;\n",
       "    }\n",
       "\n",
       "    .dataframe thead th {\n",
       "        text-align: right;\n",
       "    }\n",
       "</style>\n",
       "<table border=\"1\" class=\"dataframe\">\n",
       "  <thead>\n",
       "    <tr style=\"text-align: right;\">\n",
       "      <th></th>\n",
       "      <th>0</th>\n",
       "      <th>1</th>\n",
       "      <th>2</th>\n",
       "      <th>3</th>\n",
       "      <th>4</th>\n",
       "    </tr>\n",
       "  </thead>\n",
       "  <tbody>\n",
       "    <tr>\n",
       "      <th>meal_id</th>\n",
       "      <td>1885</td>\n",
       "      <td>1993</td>\n",
       "      <td>2539</td>\n",
       "      <td>1248</td>\n",
       "      <td>2631</td>\n",
       "    </tr>\n",
       "    <tr>\n",
       "      <th>category</th>\n",
       "      <td>Beverages</td>\n",
       "      <td>Beverages</td>\n",
       "      <td>Beverages</td>\n",
       "      <td>Beverages</td>\n",
       "      <td>Beverages</td>\n",
       "    </tr>\n",
       "    <tr>\n",
       "      <th>cuisine</th>\n",
       "      <td>Thai</td>\n",
       "      <td>Thai</td>\n",
       "      <td>Thai</td>\n",
       "      <td>Indian</td>\n",
       "      <td>Indian</td>\n",
       "    </tr>\n",
       "  </tbody>\n",
       "</table>\n",
       "</div>"
      ],
      "text/plain": [
       "                  0          1          2          3          4\n",
       "meal_id        1885       1993       2539       1248       2631\n",
       "category  Beverages  Beverages  Beverages  Beverages  Beverages\n",
       "cuisine        Thai       Thai       Thai     Indian     Indian"
      ]
     },
     "execution_count": 16,
     "metadata": {},
     "output_type": "execute_result"
    }
   ],
   "source": [
    "mi_df.head().T"
   ]
  },
  {
   "cell_type": "code",
   "execution_count": 17,
   "metadata": {},
   "outputs": [
    {
     "data": {
      "text/plain": [
       "51"
      ]
     },
     "execution_count": 17,
     "metadata": {},
     "output_type": "execute_result"
    }
   ],
   "source": [
    "len(mi_df)"
   ]
  },
  {
   "cell_type": "markdown",
   "metadata": {},
   "source": [
    "## Left join of the tables"
   ]
  },
  {
   "cell_type": "code",
   "execution_count": 18,
   "metadata": {},
   "outputs": [],
   "source": [
    "train_fci = train_df.merge(fci_df, how='left', left_on='center_id', right_on='center_id')\n",
    "test_fci = test_df.merge(fci_df, how='left', left_on='center_id', right_on='center_id')"
   ]
  },
  {
   "cell_type": "code",
   "execution_count": 19,
   "metadata": {},
   "outputs": [
    {
     "data": {
      "text/html": [
       "<div>\n",
       "<style scoped>\n",
       "    .dataframe tbody tr th:only-of-type {\n",
       "        vertical-align: middle;\n",
       "    }\n",
       "\n",
       "    .dataframe tbody tr th {\n",
       "        vertical-align: top;\n",
       "    }\n",
       "\n",
       "    .dataframe thead th {\n",
       "        text-align: right;\n",
       "    }\n",
       "</style>\n",
       "<table border=\"1\" class=\"dataframe\">\n",
       "  <thead>\n",
       "    <tr style=\"text-align: right;\">\n",
       "      <th></th>\n",
       "      <th>0</th>\n",
       "      <th>1</th>\n",
       "      <th>2</th>\n",
       "      <th>3</th>\n",
       "      <th>4</th>\n",
       "    </tr>\n",
       "  </thead>\n",
       "  <tbody>\n",
       "    <tr>\n",
       "      <th>id</th>\n",
       "      <td>1379560</td>\n",
       "      <td>1466964</td>\n",
       "      <td>1346989</td>\n",
       "      <td>1338232</td>\n",
       "      <td>1448490</td>\n",
       "    </tr>\n",
       "    <tr>\n",
       "      <th>week</th>\n",
       "      <td>1</td>\n",
       "      <td>1</td>\n",
       "      <td>1</td>\n",
       "      <td>1</td>\n",
       "      <td>1</td>\n",
       "    </tr>\n",
       "    <tr>\n",
       "      <th>center_id</th>\n",
       "      <td>55</td>\n",
       "      <td>55</td>\n",
       "      <td>55</td>\n",
       "      <td>55</td>\n",
       "      <td>55</td>\n",
       "    </tr>\n",
       "    <tr>\n",
       "      <th>meal_id</th>\n",
       "      <td>1885</td>\n",
       "      <td>1993</td>\n",
       "      <td>2539</td>\n",
       "      <td>2139</td>\n",
       "      <td>2631</td>\n",
       "    </tr>\n",
       "    <tr>\n",
       "      <th>checkout_price</th>\n",
       "      <td>136.83</td>\n",
       "      <td>136.83</td>\n",
       "      <td>134.86</td>\n",
       "      <td>339.5</td>\n",
       "      <td>243.5</td>\n",
       "    </tr>\n",
       "    <tr>\n",
       "      <th>base_price</th>\n",
       "      <td>152.29</td>\n",
       "      <td>135.83</td>\n",
       "      <td>135.86</td>\n",
       "      <td>437.53</td>\n",
       "      <td>242.5</td>\n",
       "    </tr>\n",
       "    <tr>\n",
       "      <th>emailer_for_promotion</th>\n",
       "      <td>0</td>\n",
       "      <td>0</td>\n",
       "      <td>0</td>\n",
       "      <td>0</td>\n",
       "      <td>0</td>\n",
       "    </tr>\n",
       "    <tr>\n",
       "      <th>homepage_featured</th>\n",
       "      <td>0</td>\n",
       "      <td>0</td>\n",
       "      <td>0</td>\n",
       "      <td>0</td>\n",
       "      <td>0</td>\n",
       "    </tr>\n",
       "    <tr>\n",
       "      <th>num_orders</th>\n",
       "      <td>177</td>\n",
       "      <td>270</td>\n",
       "      <td>189</td>\n",
       "      <td>54</td>\n",
       "      <td>40</td>\n",
       "    </tr>\n",
       "    <tr>\n",
       "      <th>city_code</th>\n",
       "      <td>647</td>\n",
       "      <td>647</td>\n",
       "      <td>647</td>\n",
       "      <td>647</td>\n",
       "      <td>647</td>\n",
       "    </tr>\n",
       "    <tr>\n",
       "      <th>region_code</th>\n",
       "      <td>56</td>\n",
       "      <td>56</td>\n",
       "      <td>56</td>\n",
       "      <td>56</td>\n",
       "      <td>56</td>\n",
       "    </tr>\n",
       "    <tr>\n",
       "      <th>center_type</th>\n",
       "      <td>TYPE_C</td>\n",
       "      <td>TYPE_C</td>\n",
       "      <td>TYPE_C</td>\n",
       "      <td>TYPE_C</td>\n",
       "      <td>TYPE_C</td>\n",
       "    </tr>\n",
       "    <tr>\n",
       "      <th>op_area</th>\n",
       "      <td>2</td>\n",
       "      <td>2</td>\n",
       "      <td>2</td>\n",
       "      <td>2</td>\n",
       "      <td>2</td>\n",
       "    </tr>\n",
       "  </tbody>\n",
       "</table>\n",
       "</div>"
      ],
      "text/plain": [
       "                             0        1        2        3        4\n",
       "id                     1379560  1466964  1346989  1338232  1448490\n",
       "week                         1        1        1        1        1\n",
       "center_id                   55       55       55       55       55\n",
       "meal_id                   1885     1993     2539     2139     2631\n",
       "checkout_price          136.83   136.83   134.86    339.5    243.5\n",
       "base_price              152.29   135.83   135.86   437.53    242.5\n",
       "emailer_for_promotion        0        0        0        0        0\n",
       "homepage_featured            0        0        0        0        0\n",
       "num_orders                 177      270      189       54       40\n",
       "city_code                  647      647      647      647      647\n",
       "region_code                 56       56       56       56       56\n",
       "center_type             TYPE_C   TYPE_C   TYPE_C   TYPE_C   TYPE_C\n",
       "op_area                      2        2        2        2        2"
      ]
     },
     "execution_count": 19,
     "metadata": {},
     "output_type": "execute_result"
    }
   ],
   "source": [
    "train_fci.head().T"
   ]
  },
  {
   "cell_type": "code",
   "execution_count": 20,
   "metadata": {},
   "outputs": [
    {
     "data": {
      "text/plain": [
       "(456548, 32573)"
      ]
     },
     "execution_count": 20,
     "metadata": {},
     "output_type": "execute_result"
    }
   ],
   "source": [
    "len(train_fci),len(test_fci)"
   ]
  },
  {
   "cell_type": "code",
   "execution_count": 21,
   "metadata": {},
   "outputs": [],
   "source": [
    "train_fci_mi = train_fci.merge(mi_df, how='left', left_on='meal_id', right_on='meal_id')\n",
    "test_fci_mi = test_fci.merge(mi_df, how='left', left_on='meal_id', right_on='meal_id')"
   ]
  },
  {
   "cell_type": "code",
   "execution_count": 22,
   "metadata": {},
   "outputs": [
    {
     "data": {
      "text/plain": [
       "<matplotlib.collections.PathCollection at 0x7f2ab5f977f0>"
      ]
     },
     "execution_count": 22,
     "metadata": {},
     "output_type": "execute_result"
    },
    {
     "data": {
      "image/png": "[encoded data removed]",
      "text/plain": [
       "<Figure size 432x288 with 1 Axes>"
      ]
     },
     "metadata": {
      "needs_background": "light"
     },
     "output_type": "display_data"
    }
   ],
   "source": [
    "plt.scatter(range(0,456548),train_fci_mi['op_area'])"
   ]
  },
  {
   "cell_type": "code",
   "execution_count": 23,
   "metadata": {},
   "outputs": [
    {
     "data": {
      "text/plain": [
       "(456548, 32573)"
      ]
     },
     "execution_count": 23,
     "metadata": {},
     "output_type": "execute_result"
    }
   ],
   "source": [
    "len(train_fci_mi),len(test_fci_mi)"
   ]
  },
  {
   "cell_type": "code",
   "execution_count": 43,
   "metadata": {},
   "outputs": [
    {
     "data": {
      "text/plain": [
       "(15, 'num_orders')"
      ]
     },
     "execution_count": 43,
     "metadata": {},
     "output_type": "execute_result"
    }
   ],
   "source": [
    "att = train_fci_mi.columns\n",
    "len(att),att[8]"
   ]
  },
  {
   "cell_type": "markdown",
   "metadata": {},
   "source": [
    "## Looking at the relation"
   ]
  },
  {
   "cell_type": "code",
   "execution_count": 44,
   "metadata": {},
   "outputs": [
    {
     "data": {
      "text/plain": [
       "<matplotlib.collections.PathCollection at 0x7f2ab58706a0>"
      ]
     },
     "execution_count": 44,
     "metadata": {},
     "output_type": "execute_result"
    },
    {
     "data": {
      "image/png": "[encoded data removed]",
      "text/plain": [
       "<Figure size 432x288 with 1 Axes>"
      ]
     },
     "metadata": {
      "needs_background": "light"
     },
     "output_type": "display_data"
    }
   ],
   "source": [
    "plt.scatter(train_fci_mi[att[1]],train_fci_mi['num_orders'])"
   ]
  },
  {
   "cell_type": "code",
   "execution_count": 45,
   "metadata": {},
   "outputs": [
    {
     "data": {
      "text/plain": [
       "<matplotlib.collections.PathCollection at 0x7f2ab584cd68>"
      ]
     },
     "execution_count": 45,
     "metadata": {},
     "output_type": "execute_result"
    },
    {
     "data": {
      "image/png": "[encoded data removed]",
      "text/plain": [
       "<Figure size 432x288 with 1 Axes>"
      ]
     },
     "metadata": {
      "needs_background": "light"
     },
     "output_type": "display_data"
    }
   ],
   "source": [
    "plt.scatter(train_fci_mi[att[2]],train_fci_mi['num_orders'])"
   ]
  },
  {
   "cell_type": "code",
   "execution_count": 46,
   "metadata": {},
   "outputs": [
    {
     "data": {
      "text/plain": [
       "<matplotlib.collections.PathCollection at 0x7f2ab5991e10>"
      ]
     },
     "execution_count": 46,
     "metadata": {},
     "output_type": "execute_result"
    },
    {
     "data": {
      "image/png": "[encoded data removed]",
      "text/plain": [
       "<Figure size 432x288 with 1 Axes>"
      ]
     },
     "metadata": {
      "needs_background": "light"
     },
     "output_type": "display_data"
    }
   ],
   "source": [
    "plt.scatter(train_fci_mi[att[3]],train_fci_mi['num_orders'])"
   ]
  },
  {
   "cell_type": "code",
   "execution_count": 47,
   "metadata": {},
   "outputs": [
    {
     "data": {
      "text/plain": [
       "<matplotlib.collections.PathCollection at 0x7f2ab5771908>"
      ]
     },
     "execution_count": 47,
     "metadata": {},
     "output_type": "execute_result"
    },
    {
     "data": {
      "image/png": "[encoded data removed]",
      "text/plain": [
       "<Figure size 432x288 with 1 Axes>"
      ]
     },
     "metadata": {
      "needs_background": "light"
     },
     "output_type": "display_data"
    }
   ],
   "source": [
    "plt.scatter(train_fci_mi[att[4]],train_fci_mi['num_orders'])"
   ]
  },
  {
   "cell_type": "code",
   "execution_count": 48,
   "metadata": {},
   "outputs": [
    {
     "data": {
      "text/plain": [
       "<matplotlib.collections.PathCollection at 0x7f2ab4338eb8>"
      ]
     },
     "execution_count": 48,
     "metadata": {},
     "output_type": "execute_result"
    },
    {
     "data": {
      "image/png": "[encoded data removed]",
      "text/plain": [
       "<Figure size 432x288 with 1 Axes>"
      ]
     },
     "metadata": {
      "needs_background": "light"
     },
     "output_type": "display_data"
    }
   ],
   "source": [
    "plt.scatter(train_fci_mi[att[5]],train_fci_mi['num_orders'])"
   ]
  },
  {
   "cell_type": "code",
   "execution_count": 49,
   "metadata": {},
   "outputs": [
    {
     "data": {
      "text/plain": [
       "<matplotlib.collections.PathCollection at 0x7f2ab42decc0>"
      ]
     },
     "execution_count": 49,
     "metadata": {},
     "output_type": "execute_result"
    },
    {
     "data": {
      "image/png": "[encoded data removed]",
      "text/plain": [
       "<Figure size 432x288 with 1 Axes>"
      ]
     },
     "metadata": {
      "needs_background": "light"
     },
     "output_type": "display_data"
    }
   ],
   "source": [
    "plt.scatter(train_fci_mi[att[6]],train_fci_mi['num_orders'])"
   ]
  },
  {
   "cell_type": "code",
   "execution_count": 50,
   "metadata": {},
   "outputs": [
    {
     "data": {
      "text/plain": [
       "<matplotlib.collections.PathCollection at 0x7f2ab5742c50>"
      ]
     },
     "execution_count": 50,
     "metadata": {},
     "output_type": "execute_result"
    },
    {
     "data": {
      "image/png": "[encoded data removed]",
      "text/plain": [
       "<Figure size 432x288 with 1 Axes>"
      ]
     },
     "metadata": {
      "needs_background": "light"
     },
     "output_type": "display_data"
    }
   ],
   "source": [
    "plt.scatter(train_fci_mi[att[7]],train_fci_mi['num_orders'])"
   ]
  },
  {
   "cell_type": "code",
   "execution_count": 51,
   "metadata": {},
   "outputs": [
    {
     "data": {
      "text/plain": [
       "<matplotlib.collections.PathCollection at 0x7f2ab571ebe0>"
      ]
     },
     "execution_count": 51,
     "metadata": {},
     "output_type": "execute_result"
    },
    {
     "data": {
      "image/png": "[encoded data removed]",
      "text/plain": [
       "<Figure size 432x288 with 1 Axes>"
      ]
     },
     "metadata": {
      "needs_background": "light"
     },
     "output_type": "display_data"
    }
   ],
   "source": [
    "plt.scatter(train_fci_mi[att[9]],train_fci_mi['num_orders'])"
   ]
  },
  {
   "cell_type": "code",
   "execution_count": 52,
   "metadata": {},
   "outputs": [
    {
     "data": {
      "text/plain": [
       "<matplotlib.collections.PathCollection at 0x7f2ab567cbe0>"
      ]
     },
     "execution_count": 52,
     "metadata": {},
     "output_type": "execute_result"
    },
    {
     "data": {
      "image/png": "[encoded data removed]",
      "text/plain": [
       "<Figure size 432x288 with 1 Axes>"
      ]
     },
     "metadata": {
      "needs_background": "light"
     },
     "output_type": "display_data"
    }
   ],
   "source": [
    "plt.scatter(train_fci_mi[att[10]],train_fci_mi['num_orders'])"
   ]
  },
  {
   "cell_type": "code",
   "execution_count": 53,
   "metadata": {},
   "outputs": [
    {
     "data": {
      "text/plain": [
       "<matplotlib.collections.PathCollection at 0x7f2ab4d155f8>"
      ]
     },
     "execution_count": 53,
     "metadata": {},
     "output_type": "execute_result"
    },
    {
     "data": {
      "image/png": "[encoded data removed]",
      "text/plain": [
       "<Figure size 432x288 with 1 Axes>"
      ]
     },
     "metadata": {
      "needs_background": "light"
     },
     "output_type": "display_data"
    }
   ],
   "source": [
    "plt.scatter(train_fci_mi[att[11]],train_fci_mi['num_orders'])"
   ]
  },
  {
   "cell_type": "code",
   "execution_count": 54,
   "metadata": {},
   "outputs": [
    {
     "data": {
      "text/plain": [
       "<matplotlib.collections.PathCollection at 0x7f2ab4c5fd68>"
      ]
     },
     "execution_count": 54,
     "metadata": {},
     "output_type": "execute_result"
    },
    {
     "data": {
      "image/png": "[encoded data removed]",
      "text/plain": [
       "<Figure size 432x288 with 1 Axes>"
      ]
     },
     "metadata": {
      "needs_background": "light"
     },
     "output_type": "display_data"
    }
   ],
   "source": [
    "plt.scatter(train_fci_mi[att[12]],train_fci_mi['num_orders'])"
   ]
  },
  {
   "cell_type": "code",
   "execution_count": 55,
   "metadata": {},
   "outputs": [
    {
     "data": {
      "text/plain": [
       "<matplotlib.collections.PathCollection at 0x7f2ab3485128>"
      ]
     },
     "execution_count": 55,
     "metadata": {},
     "output_type": "execute_result"
    },
    {
     "data": {
      "image/png": "[encoded data removed]",
      "text/plain": [
       "<Figure size 432x288 with 1 Axes>"
      ]
     },
     "metadata": {
      "needs_background": "light"
     },
     "output_type": "display_data"
    }
   ],
   "source": [
    "plt.scatter(train_fci_mi[att[13]],train_fci_mi['num_orders'])"
   ]
  },
  {
   "cell_type": "code",
   "execution_count": 56,
   "metadata": {},
   "outputs": [
    {
     "data": {
      "text/plain": [
       "<matplotlib.collections.PathCollection at 0x7f2ab4be9c50>"
      ]
     },
     "execution_count": 56,
     "metadata": {},
     "output_type": "execute_result"
    },
    {
     "data": {
      "image/png": "[encoded data removed]",
      "text/plain": [
       "<Figure size 432x288 with 1 Axes>"
      ]
     },
     "metadata": {
      "needs_background": "light"
     },
     "output_type": "display_data"
    }
   ],
   "source": [
    "plt.scatter(train_fci_mi[att[14]],train_fci_mi['num_orders'])"
   ]
  },
  {
   "cell_type": "markdown",
   "metadata": {},
   "source": [
    "## Checking for correct merge"
   ]
  },
  {
   "cell_type": "code",
   "execution_count": 57,
   "metadata": {},
   "outputs": [
    {
     "data": {
      "text/html": [
       "<div>\n",
       "<style scoped>\n",
       "    .dataframe tbody tr th:only-of-type {\n",
       "        vertical-align: middle;\n",
       "    }\n",
       "\n",
       "    .dataframe tbody tr th {\n",
       "        vertical-align: top;\n",
       "    }\n",
       "\n",
       "    .dataframe thead th {\n",
       "        text-align: right;\n",
       "    }\n",
       "</style>\n",
       "<table border=\"1\" class=\"dataframe\">\n",
       "  <thead>\n",
       "    <tr style=\"text-align: right;\">\n",
       "      <th></th>\n",
       "      <th>0</th>\n",
       "      <th>1</th>\n",
       "      <th>2</th>\n",
       "      <th>3</th>\n",
       "      <th>4</th>\n",
       "    </tr>\n",
       "  </thead>\n",
       "  <tbody>\n",
       "    <tr>\n",
       "      <th>id</th>\n",
       "      <td>1379560</td>\n",
       "      <td>1466964</td>\n",
       "      <td>1346989</td>\n",
       "      <td>1338232</td>\n",
       "      <td>1448490</td>\n",
       "    </tr>\n",
       "    <tr>\n",
       "      <th>week</th>\n",
       "      <td>1</td>\n",
       "      <td>1</td>\n",
       "      <td>1</td>\n",
       "      <td>1</td>\n",
       "      <td>1</td>\n",
       "    </tr>\n",
       "    <tr>\n",
       "      <th>center_id</th>\n",
       "      <td>55</td>\n",
       "      <td>55</td>\n",
       "      <td>55</td>\n",
       "      <td>55</td>\n",
       "      <td>55</td>\n",
       "    </tr>\n",
       "    <tr>\n",
       "      <th>meal_id</th>\n",
       "      <td>1885</td>\n",
       "      <td>1993</td>\n",
       "      <td>2539</td>\n",
       "      <td>2139</td>\n",
       "      <td>2631</td>\n",
       "    </tr>\n",
       "    <tr>\n",
       "      <th>checkout_price</th>\n",
       "      <td>136.83</td>\n",
       "      <td>136.83</td>\n",
       "      <td>134.86</td>\n",
       "      <td>339.5</td>\n",
       "      <td>243.5</td>\n",
       "    </tr>\n",
       "    <tr>\n",
       "      <th>base_price</th>\n",
       "      <td>152.29</td>\n",
       "      <td>135.83</td>\n",
       "      <td>135.86</td>\n",
       "      <td>437.53</td>\n",
       "      <td>242.5</td>\n",
       "    </tr>\n",
       "    <tr>\n",
       "      <th>emailer_for_promotion</th>\n",
       "      <td>0</td>\n",
       "      <td>0</td>\n",
       "      <td>0</td>\n",
       "      <td>0</td>\n",
       "      <td>0</td>\n",
       "    </tr>\n",
       "    <tr>\n",
       "      <th>homepage_featured</th>\n",
       "      <td>0</td>\n",
       "      <td>0</td>\n",
       "      <td>0</td>\n",
       "      <td>0</td>\n",
       "      <td>0</td>\n",
       "    </tr>\n",
       "    <tr>\n",
       "      <th>num_orders</th>\n",
       "      <td>177</td>\n",
       "      <td>270</td>\n",
       "      <td>189</td>\n",
       "      <td>54</td>\n",
       "      <td>40</td>\n",
       "    </tr>\n",
       "    <tr>\n",
       "      <th>city_code</th>\n",
       "      <td>647</td>\n",
       "      <td>647</td>\n",
       "      <td>647</td>\n",
       "      <td>647</td>\n",
       "      <td>647</td>\n",
       "    </tr>\n",
       "    <tr>\n",
       "      <th>region_code</th>\n",
       "      <td>56</td>\n",
       "      <td>56</td>\n",
       "      <td>56</td>\n",
       "      <td>56</td>\n",
       "      <td>56</td>\n",
       "    </tr>\n",
       "    <tr>\n",
       "      <th>center_type</th>\n",
       "      <td>TYPE_C</td>\n",
       "      <td>TYPE_C</td>\n",
       "      <td>TYPE_C</td>\n",
       "      <td>TYPE_C</td>\n",
       "      <td>TYPE_C</td>\n",
       "    </tr>\n",
       "    <tr>\n",
       "      <th>op_area</th>\n",
       "      <td>2</td>\n",
       "      <td>2</td>\n",
       "      <td>2</td>\n",
       "      <td>2</td>\n",
       "      <td>2</td>\n",
       "    </tr>\n",
       "    <tr>\n",
       "      <th>category</th>\n",
       "      <td>Beverages</td>\n",
       "      <td>Beverages</td>\n",
       "      <td>Beverages</td>\n",
       "      <td>Beverages</td>\n",
       "      <td>Beverages</td>\n",
       "    </tr>\n",
       "    <tr>\n",
       "      <th>cuisine</th>\n",
       "      <td>Thai</td>\n",
       "      <td>Thai</td>\n",
       "      <td>Thai</td>\n",
       "      <td>Indian</td>\n",
       "      <td>Indian</td>\n",
       "    </tr>\n",
       "  </tbody>\n",
       "</table>\n",
       "</div>"
      ],
      "text/plain": [
       "                               0          1          2          3          4\n",
       "id                       1379560    1466964    1346989    1338232    1448490\n",
       "week                           1          1          1          1          1\n",
       "center_id                     55         55         55         55         55\n",
       "meal_id                     1885       1993       2539       2139       2631\n",
       "checkout_price            136.83     136.83     134.86      339.5      243.5\n",
       "base_price                152.29     135.83     135.86     437.53      242.5\n",
       "emailer_for_promotion          0          0          0          0          0\n",
       "homepage_featured              0          0          0          0          0\n",
       "num_orders                   177        270        189         54         40\n",
       "city_code                    647        647        647        647        647\n",
       "region_code                   56         56         56         56         56\n",
       "center_type               TYPE_C     TYPE_C     TYPE_C     TYPE_C     TYPE_C\n",
       "op_area                        2          2          2          2          2\n",
       "category               Beverages  Beverages  Beverages  Beverages  Beverages\n",
       "cuisine                     Thai       Thai       Thai     Indian     Indian"
      ]
     },
     "execution_count": 57,
     "metadata": {},
     "output_type": "execute_result"
    }
   ],
   "source": [
    "train_fci_mi.head().T"
   ]
  },
  {
   "cell_type": "code",
   "execution_count": 127,
   "metadata": {},
   "outputs": [
    {
     "data": {
      "text/html": [
       "<div>\n",
       "<style scoped>\n",
       "    .dataframe tbody tr th:only-of-type {\n",
       "        vertical-align: middle;\n",
       "    }\n",
       "\n",
       "    .dataframe tbody tr th {\n",
       "        vertical-align: top;\n",
       "    }\n",
       "\n",
       "    .dataframe thead th {\n",
       "        text-align: right;\n",
       "    }\n",
       "</style>\n",
       "<table border=\"1\" class=\"dataframe\">\n",
       "  <thead>\n",
       "    <tr style=\"text-align: right;\">\n",
       "      <th></th>\n",
       "      <th>id</th>\n",
       "      <th>week</th>\n",
       "      <th>center_id</th>\n",
       "      <th>meal_id</th>\n",
       "      <th>checkout_price</th>\n",
       "      <th>base_price</th>\n",
       "      <th>emailer_for_promotion</th>\n",
       "      <th>homepage_featured</th>\n",
       "      <th>city_code</th>\n",
       "      <th>region_code</th>\n",
       "      <th>center_type</th>\n",
       "      <th>op_area</th>\n",
       "      <th>category</th>\n",
       "      <th>cuisine</th>\n",
       "    </tr>\n",
       "  </thead>\n",
       "  <tbody>\n",
       "    <tr>\n",
       "      <th>0</th>\n",
       "      <td>1028232</td>\n",
       "      <td>42</td>\n",
       "      <td>55</td>\n",
       "      <td>1885</td>\n",
       "      <td>-1.139282</td>\n",
       "      <td>-1.209352</td>\n",
       "      <td>0</td>\n",
       "      <td>0</td>\n",
       "      <td>647</td>\n",
       "      <td>56</td>\n",
       "      <td>TYPE_C</td>\n",
       "      <td>2.0</td>\n",
       "      <td>Beverages</td>\n",
       "      <td>Thai</td>\n",
       "    </tr>\n",
       "    <tr>\n",
       "      <th>1</th>\n",
       "      <td>1127204</td>\n",
       "      <td>42</td>\n",
       "      <td>55</td>\n",
       "      <td>1993</td>\n",
       "      <td>-1.126230</td>\n",
       "      <td>-1.209352</td>\n",
       "      <td>0</td>\n",
       "      <td>0</td>\n",
       "      <td>647</td>\n",
       "      <td>56</td>\n",
       "      <td>TYPE_C</td>\n",
       "      <td>2.0</td>\n",
       "      <td>Beverages</td>\n",
       "      <td>Thai</td>\n",
       "    </tr>\n",
       "    <tr>\n",
       "      <th>2</th>\n",
       "      <td>1212707</td>\n",
       "      <td>42</td>\n",
       "      <td>55</td>\n",
       "      <td>2539</td>\n",
       "      <td>-1.145612</td>\n",
       "      <td>-1.209166</td>\n",
       "      <td>0</td>\n",
       "      <td>0</td>\n",
       "      <td>647</td>\n",
       "      <td>56</td>\n",
       "      <td>TYPE_C</td>\n",
       "      <td>2.0</td>\n",
       "      <td>Beverages</td>\n",
       "      <td>Thai</td>\n",
       "    </tr>\n",
       "    <tr>\n",
       "      <th>3</th>\n",
       "      <td>1082698</td>\n",
       "      <td>42</td>\n",
       "      <td>55</td>\n",
       "      <td>2631</td>\n",
       "      <td>-1.113765</td>\n",
       "      <td>-1.191361</td>\n",
       "      <td>0</td>\n",
       "      <td>0</td>\n",
       "      <td>647</td>\n",
       "      <td>56</td>\n",
       "      <td>TYPE_C</td>\n",
       "      <td>2.0</td>\n",
       "      <td>Beverages</td>\n",
       "      <td>Indian</td>\n",
       "    </tr>\n",
       "    <tr>\n",
       "      <th>4</th>\n",
       "      <td>1400926</td>\n",
       "      <td>42</td>\n",
       "      <td>55</td>\n",
       "      <td>1248</td>\n",
       "      <td>-1.101300</td>\n",
       "      <td>-1.179552</td>\n",
       "      <td>0</td>\n",
       "      <td>0</td>\n",
       "      <td>647</td>\n",
       "      <td>56</td>\n",
       "      <td>TYPE_C</td>\n",
       "      <td>2.0</td>\n",
       "      <td>Beverages</td>\n",
       "      <td>Indian</td>\n",
       "    </tr>\n",
       "    <tr>\n",
       "      <th>5</th>\n",
       "      <td>1284113</td>\n",
       "      <td>42</td>\n",
       "      <td>55</td>\n",
       "      <td>1778</td>\n",
       "      <td>-0.930188</td>\n",
       "      <td>-1.017445</td>\n",
       "      <td>0</td>\n",
       "      <td>0</td>\n",
       "      <td>647</td>\n",
       "      <td>56</td>\n",
       "      <td>TYPE_C</td>\n",
       "      <td>2.0</td>\n",
       "      <td>Beverages</td>\n",
       "      <td>Italian</td>\n",
       "    </tr>\n",
       "    <tr>\n",
       "      <th>6</th>\n",
       "      <td>1197966</td>\n",
       "      <td>42</td>\n",
       "      <td>55</td>\n",
       "      <td>1062</td>\n",
       "      <td>-0.924054</td>\n",
       "      <td>-1.005451</td>\n",
       "      <td>0</td>\n",
       "      <td>0</td>\n",
       "      <td>647</td>\n",
       "      <td>56</td>\n",
       "      <td>TYPE_C</td>\n",
       "      <td>2.0</td>\n",
       "      <td>Beverages</td>\n",
       "      <td>Italian</td>\n",
       "    </tr>\n",
       "    <tr>\n",
       "      <th>7</th>\n",
       "      <td>1132739</td>\n",
       "      <td>42</td>\n",
       "      <td>55</td>\n",
       "      <td>2707</td>\n",
       "      <td>-0.588160</td>\n",
       "      <td>-0.705782</td>\n",
       "      <td>0</td>\n",
       "      <td>0</td>\n",
       "      <td>647</td>\n",
       "      <td>56</td>\n",
       "      <td>TYPE_C</td>\n",
       "      <td>2.0</td>\n",
       "      <td>Beverages</td>\n",
       "      <td>Italian</td>\n",
       "    </tr>\n",
       "    <tr>\n",
       "      <th>8</th>\n",
       "      <td>1057981</td>\n",
       "      <td>42</td>\n",
       "      <td>55</td>\n",
       "      <td>1207</td>\n",
       "      <td>0.184128</td>\n",
       "      <td>0.038227</td>\n",
       "      <td>0</td>\n",
       "      <td>0</td>\n",
       "      <td>647</td>\n",
       "      <td>56</td>\n",
       "      <td>TYPE_C</td>\n",
       "      <td>2.0</td>\n",
       "      <td>Beverages</td>\n",
       "      <td>Continental</td>\n",
       "    </tr>\n",
       "    <tr>\n",
       "      <th>9</th>\n",
       "      <td>1095932</td>\n",
       "      <td>42</td>\n",
       "      <td>55</td>\n",
       "      <td>1230</td>\n",
       "      <td>0.329527</td>\n",
       "      <td>0.182157</td>\n",
       "      <td>0</td>\n",
       "      <td>0</td>\n",
       "      <td>647</td>\n",
       "      <td>56</td>\n",
       "      <td>TYPE_C</td>\n",
       "      <td>2.0</td>\n",
       "      <td>Beverages</td>\n",
       "      <td>Continental</td>\n",
       "    </tr>\n",
       "    <tr>\n",
       "      <th>10</th>\n",
       "      <td>1454421</td>\n",
       "      <td>42</td>\n",
       "      <td>55</td>\n",
       "      <td>2322</td>\n",
       "      <td>0.367509</td>\n",
       "      <td>0.218139</td>\n",
       "      <td>0</td>\n",
       "      <td>0</td>\n",
       "      <td>647</td>\n",
       "      <td>56</td>\n",
       "      <td>TYPE_C</td>\n",
       "      <td>2.0</td>\n",
       "      <td>Beverages</td>\n",
       "      <td>Continental</td>\n",
       "    </tr>\n",
       "    <tr>\n",
       "      <th>11</th>\n",
       "      <td>1149765</td>\n",
       "      <td>42</td>\n",
       "      <td>55</td>\n",
       "      <td>2290</td>\n",
       "      <td>-0.196078</td>\n",
       "      <td>-0.315787</td>\n",
       "      <td>0</td>\n",
       "      <td>0</td>\n",
       "      <td>647</td>\n",
       "      <td>56</td>\n",
       "      <td>TYPE_C</td>\n",
       "      <td>2.0</td>\n",
       "      <td>Rice Bowl</td>\n",
       "      <td>Indian</td>\n",
       "    </tr>\n",
       "    <tr>\n",
       "      <th>12</th>\n",
       "      <td>1166964</td>\n",
       "      <td>42</td>\n",
       "      <td>55</td>\n",
       "      <td>1727</td>\n",
       "      <td>0.874123</td>\n",
       "      <td>0.685726</td>\n",
       "      <td>0</td>\n",
       "      <td>0</td>\n",
       "      <td>647</td>\n",
       "      <td>56</td>\n",
       "      <td>TYPE_C</td>\n",
       "      <td>2.0</td>\n",
       "      <td>Rice Bowl</td>\n",
       "      <td>Indian</td>\n",
       "    </tr>\n",
       "    <tr>\n",
       "      <th>13</th>\n",
       "      <td>1010949</td>\n",
       "      <td>42</td>\n",
       "      <td>55</td>\n",
       "      <td>1109</td>\n",
       "      <td>-0.151766</td>\n",
       "      <td>-0.273807</td>\n",
       "      <td>0</td>\n",
       "      <td>0</td>\n",
       "      <td>647</td>\n",
       "      <td>56</td>\n",
       "      <td>TYPE_C</td>\n",
       "      <td>2.0</td>\n",
       "      <td>Rice Bowl</td>\n",
       "      <td>Indian</td>\n",
       "    </tr>\n",
       "    <tr>\n",
       "      <th>14</th>\n",
       "      <td>1409575</td>\n",
       "      <td>42</td>\n",
       "      <td>55</td>\n",
       "      <td>2577</td>\n",
       "      <td>-0.081938</td>\n",
       "      <td>-0.213836</td>\n",
       "      <td>0</td>\n",
       "      <td>1</td>\n",
       "      <td>647</td>\n",
       "      <td>56</td>\n",
       "      <td>TYPE_C</td>\n",
       "      <td>2.0</td>\n",
       "      <td>Starters</td>\n",
       "      <td>Thai</td>\n",
       "    </tr>\n",
       "    <tr>\n",
       "      <th>15</th>\n",
       "      <td>1181616</td>\n",
       "      <td>42</td>\n",
       "      <td>55</td>\n",
       "      <td>2640</td>\n",
       "      <td>-0.088464</td>\n",
       "      <td>-0.220019</td>\n",
       "      <td>0</td>\n",
       "      <td>0</td>\n",
       "      <td>647</td>\n",
       "      <td>56</td>\n",
       "      <td>TYPE_C</td>\n",
       "      <td>2.0</td>\n",
       "      <td>Starters</td>\n",
       "      <td>Thai</td>\n",
       "    </tr>\n",
       "    <tr>\n",
       "      <th>16</th>\n",
       "      <td>1456020</td>\n",
       "      <td>42</td>\n",
       "      <td>55</td>\n",
       "      <td>2826</td>\n",
       "      <td>0.291350</td>\n",
       "      <td>0.152171</td>\n",
       "      <td>0</td>\n",
       "      <td>0</td>\n",
       "      <td>647</td>\n",
       "      <td>56</td>\n",
       "      <td>TYPE_C</td>\n",
       "      <td>2.0</td>\n",
       "      <td>Sandwich</td>\n",
       "      <td>Italian</td>\n",
       "    </tr>\n",
       "    <tr>\n",
       "      <th>17</th>\n",
       "      <td>1264395</td>\n",
       "      <td>42</td>\n",
       "      <td>55</td>\n",
       "      <td>1754</td>\n",
       "      <td>-0.018440</td>\n",
       "      <td>-0.153680</td>\n",
       "      <td>0</td>\n",
       "      <td>0</td>\n",
       "      <td>647</td>\n",
       "      <td>56</td>\n",
       "      <td>TYPE_C</td>\n",
       "      <td>2.0</td>\n",
       "      <td>Sandwich</td>\n",
       "      <td>Italian</td>\n",
       "    </tr>\n",
       "    <tr>\n",
       "      <th>18</th>\n",
       "      <td>1472931</td>\n",
       "      <td>42</td>\n",
       "      <td>55</td>\n",
       "      <td>1971</td>\n",
       "      <td>0.076122</td>\n",
       "      <td>-0.064095</td>\n",
       "      <td>0</td>\n",
       "      <td>0</td>\n",
       "      <td>647</td>\n",
       "      <td>56</td>\n",
       "      <td>TYPE_C</td>\n",
       "      <td>2.0</td>\n",
       "      <td>Sandwich</td>\n",
       "      <td>Italian</td>\n",
       "    </tr>\n",
       "    <tr>\n",
       "      <th>19</th>\n",
       "      <td>1412015</td>\n",
       "      <td>42</td>\n",
       "      <td>55</td>\n",
       "      <td>1198</td>\n",
       "      <td>-1.284877</td>\n",
       "      <td>-1.017260</td>\n",
       "      <td>0</td>\n",
       "      <td>0</td>\n",
       "      <td>647</td>\n",
       "      <td>56</td>\n",
       "      <td>TYPE_C</td>\n",
       "      <td>2.0</td>\n",
       "      <td>Extras</td>\n",
       "      <td>Thai</td>\n",
       "    </tr>\n",
       "    <tr>\n",
       "      <th>20</th>\n",
       "      <td>1461229</td>\n",
       "      <td>42</td>\n",
       "      <td>55</td>\n",
       "      <td>1311</td>\n",
       "      <td>-0.967974</td>\n",
       "      <td>-0.783374</td>\n",
       "      <td>0</td>\n",
       "      <td>0</td>\n",
       "      <td>647</td>\n",
       "      <td>56</td>\n",
       "      <td>TYPE_C</td>\n",
       "      <td>2.0</td>\n",
       "      <td>Extras</td>\n",
       "      <td>Thai</td>\n",
       "    </tr>\n",
       "    <tr>\n",
       "      <th>21</th>\n",
       "      <td>1014564</td>\n",
       "      <td>42</td>\n",
       "      <td>55</td>\n",
       "      <td>1803</td>\n",
       "      <td>-0.929993</td>\n",
       "      <td>-0.687420</td>\n",
       "      <td>0</td>\n",
       "      <td>0</td>\n",
       "      <td>647</td>\n",
       "      <td>56</td>\n",
       "      <td>TYPE_C</td>\n",
       "      <td>2.0</td>\n",
       "      <td>Extras</td>\n",
       "      <td>Thai</td>\n",
       "    </tr>\n",
       "    <tr>\n",
       "      <th>22</th>\n",
       "      <td>1485914</td>\n",
       "      <td>42</td>\n",
       "      <td>55</td>\n",
       "      <td>1558</td>\n",
       "      <td>1.500424</td>\n",
       "      <td>1.285249</td>\n",
       "      <td>0</td>\n",
       "      <td>0</td>\n",
       "      <td>647</td>\n",
       "      <td>56</td>\n",
       "      <td>TYPE_C</td>\n",
       "      <td>2.0</td>\n",
       "      <td>Pizza</td>\n",
       "      <td>Continental</td>\n",
       "    </tr>\n",
       "    <tr>\n",
       "      <th>23</th>\n",
       "      <td>1345389</td>\n",
       "      <td>42</td>\n",
       "      <td>55</td>\n",
       "      <td>2581</td>\n",
       "      <td>1.506950</td>\n",
       "      <td>1.291431</td>\n",
       "      <td>0</td>\n",
       "      <td>0</td>\n",
       "      <td>647</td>\n",
       "      <td>56</td>\n",
       "      <td>TYPE_C</td>\n",
       "      <td>2.0</td>\n",
       "      <td>Pizza</td>\n",
       "      <td>Continental</td>\n",
       "    </tr>\n",
       "    <tr>\n",
       "      <th>24</th>\n",
       "      <td>1006833</td>\n",
       "      <td>42</td>\n",
       "      <td>55</td>\n",
       "      <td>1962</td>\n",
       "      <td>1.500424</td>\n",
       "      <td>1.291431</td>\n",
       "      <td>0</td>\n",
       "      <td>0</td>\n",
       "      <td>647</td>\n",
       "      <td>56</td>\n",
       "      <td>TYPE_C</td>\n",
       "      <td>2.0</td>\n",
       "      <td>Pizza</td>\n",
       "      <td>Continental</td>\n",
       "    </tr>\n",
       "    <tr>\n",
       "      <th>25</th>\n",
       "      <td>1174921</td>\n",
       "      <td>42</td>\n",
       "      <td>55</td>\n",
       "      <td>2444</td>\n",
       "      <td>2.570233</td>\n",
       "      <td>2.304938</td>\n",
       "      <td>0</td>\n",
       "      <td>0</td>\n",
       "      <td>647</td>\n",
       "      <td>56</td>\n",
       "      <td>TYPE_C</td>\n",
       "      <td>2.0</td>\n",
       "      <td>Seafood</td>\n",
       "      <td>Continental</td>\n",
       "    </tr>\n",
       "    <tr>\n",
       "      <th>26</th>\n",
       "      <td>1175393</td>\n",
       "      <td>42</td>\n",
       "      <td>55</td>\n",
       "      <td>2867</td>\n",
       "      <td>2.570233</td>\n",
       "      <td>2.304938</td>\n",
       "      <td>0</td>\n",
       "      <td>0</td>\n",
       "      <td>647</td>\n",
       "      <td>56</td>\n",
       "      <td>TYPE_C</td>\n",
       "      <td>2.0</td>\n",
       "      <td>Seafood</td>\n",
       "      <td>Continental</td>\n",
       "    </tr>\n",
       "    <tr>\n",
       "      <th>27</th>\n",
       "      <td>1152412</td>\n",
       "      <td>42</td>\n",
       "      <td>55</td>\n",
       "      <td>1525</td>\n",
       "      <td>-0.081938</td>\n",
       "      <td>-0.220019</td>\n",
       "      <td>0</td>\n",
       "      <td>0</td>\n",
       "      <td>647</td>\n",
       "      <td>56</td>\n",
       "      <td>TYPE_C</td>\n",
       "      <td>2.0</td>\n",
       "      <td>Other Snacks</td>\n",
       "      <td>Thai</td>\n",
       "    </tr>\n",
       "    <tr>\n",
       "      <th>28</th>\n",
       "      <td>1497398</td>\n",
       "      <td>42</td>\n",
       "      <td>55</td>\n",
       "      <td>2704</td>\n",
       "      <td>-0.081938</td>\n",
       "      <td>-0.207654</td>\n",
       "      <td>0</td>\n",
       "      <td>0</td>\n",
       "      <td>647</td>\n",
       "      <td>56</td>\n",
       "      <td>TYPE_C</td>\n",
       "      <td>2.0</td>\n",
       "      <td>Other Snacks</td>\n",
       "      <td>Thai</td>\n",
       "    </tr>\n",
       "    <tr>\n",
       "      <th>29</th>\n",
       "      <td>1363486</td>\n",
       "      <td>42</td>\n",
       "      <td>55</td>\n",
       "      <td>2492</td>\n",
       "      <td>0.361178</td>\n",
       "      <td>0.199777</td>\n",
       "      <td>0</td>\n",
       "      <td>0</td>\n",
       "      <td>647</td>\n",
       "      <td>56</td>\n",
       "      <td>TYPE_C</td>\n",
       "      <td>2.0</td>\n",
       "      <td>Desert</td>\n",
       "      <td>Indian</td>\n",
       "    </tr>\n",
       "    <tr>\n",
       "      <th>...</th>\n",
       "      <td>...</td>\n",
       "      <td>...</td>\n",
       "      <td>...</td>\n",
       "      <td>...</td>\n",
       "      <td>...</td>\n",
       "      <td>...</td>\n",
       "      <td>...</td>\n",
       "      <td>...</td>\n",
       "      <td>...</td>\n",
       "      <td>...</td>\n",
       "      <td>...</td>\n",
       "      <td>...</td>\n",
       "      <td>...</td>\n",
       "      <td>...</td>\n",
       "    </tr>\n",
       "    <tr>\n",
       "      <th>32543</th>\n",
       "      <td>1234660</td>\n",
       "      <td>51</td>\n",
       "      <td>61</td>\n",
       "      <td>2290</td>\n",
       "      <td>-0.892207</td>\n",
       "      <td>-0.387752</td>\n",
       "      <td>1</td>\n",
       "      <td>1</td>\n",
       "      <td>473</td>\n",
       "      <td>77</td>\n",
       "      <td>TYPE_A</td>\n",
       "      <td>4.5</td>\n",
       "      <td>Rice Bowl</td>\n",
       "      <td>Indian</td>\n",
       "    </tr>\n",
       "    <tr>\n",
       "      <th>32544</th>\n",
       "      <td>1404408</td>\n",
       "      <td>51</td>\n",
       "      <td>61</td>\n",
       "      <td>1727</td>\n",
       "      <td>0.734466</td>\n",
       "      <td>0.571967</td>\n",
       "      <td>0</td>\n",
       "      <td>0</td>\n",
       "      <td>473</td>\n",
       "      <td>77</td>\n",
       "      <td>TYPE_A</td>\n",
       "      <td>4.5</td>\n",
       "      <td>Rice Bowl</td>\n",
       "      <td>Indian</td>\n",
       "    </tr>\n",
       "    <tr>\n",
       "      <th>32545</th>\n",
       "      <td>1234776</td>\n",
       "      <td>51</td>\n",
       "      <td>61</td>\n",
       "      <td>1109</td>\n",
       "      <td>-0.253050</td>\n",
       "      <td>-0.363578</td>\n",
       "      <td>0</td>\n",
       "      <td>0</td>\n",
       "      <td>473</td>\n",
       "      <td>77</td>\n",
       "      <td>TYPE_A</td>\n",
       "      <td>4.5</td>\n",
       "      <td>Rice Bowl</td>\n",
       "      <td>Indian</td>\n",
       "    </tr>\n",
       "    <tr>\n",
       "      <th>32546</th>\n",
       "      <td>1349215</td>\n",
       "      <td>51</td>\n",
       "      <td>61</td>\n",
       "      <td>1571</td>\n",
       "      <td>2.253722</td>\n",
       "      <td>1.998902</td>\n",
       "      <td>0</td>\n",
       "      <td>0</td>\n",
       "      <td>473</td>\n",
       "      <td>77</td>\n",
       "      <td>TYPE_A</td>\n",
       "      <td>4.5</td>\n",
       "      <td>Fish</td>\n",
       "      <td>Continental</td>\n",
       "    </tr>\n",
       "    <tr>\n",
       "      <th>32547</th>\n",
       "      <td>1207249</td>\n",
       "      <td>51</td>\n",
       "      <td>61</td>\n",
       "      <td>2577</td>\n",
       "      <td>-0.088464</td>\n",
       "      <td>-0.213836</td>\n",
       "      <td>0</td>\n",
       "      <td>0</td>\n",
       "      <td>473</td>\n",
       "      <td>77</td>\n",
       "      <td>TYPE_A</td>\n",
       "      <td>4.5</td>\n",
       "      <td>Starters</td>\n",
       "      <td>Thai</td>\n",
       "    </tr>\n",
       "    <tr>\n",
       "      <th>32548</th>\n",
       "      <td>1414921</td>\n",
       "      <td>51</td>\n",
       "      <td>61</td>\n",
       "      <td>2640</td>\n",
       "      <td>-0.075412</td>\n",
       "      <td>-0.207654</td>\n",
       "      <td>0</td>\n",
       "      <td>0</td>\n",
       "      <td>473</td>\n",
       "      <td>77</td>\n",
       "      <td>TYPE_A</td>\n",
       "      <td>4.5</td>\n",
       "      <td>Starters</td>\n",
       "      <td>Thai</td>\n",
       "    </tr>\n",
       "    <tr>\n",
       "      <th>32549</th>\n",
       "      <td>1126947</td>\n",
       "      <td>51</td>\n",
       "      <td>61</td>\n",
       "      <td>1878</td>\n",
       "      <td>-0.088464</td>\n",
       "      <td>-0.213836</td>\n",
       "      <td>0</td>\n",
       "      <td>0</td>\n",
       "      <td>473</td>\n",
       "      <td>77</td>\n",
       "      <td>TYPE_A</td>\n",
       "      <td>4.5</td>\n",
       "      <td>Starters</td>\n",
       "      <td>Thai</td>\n",
       "    </tr>\n",
       "    <tr>\n",
       "      <th>32550</th>\n",
       "      <td>1096124</td>\n",
       "      <td>51</td>\n",
       "      <td>61</td>\n",
       "      <td>2306</td>\n",
       "      <td>0.032202</td>\n",
       "      <td>-0.118068</td>\n",
       "      <td>0</td>\n",
       "      <td>0</td>\n",
       "      <td>473</td>\n",
       "      <td>77</td>\n",
       "      <td>TYPE_A</td>\n",
       "      <td>4.5</td>\n",
       "      <td>Pasta</td>\n",
       "      <td>Italian</td>\n",
       "    </tr>\n",
       "    <tr>\n",
       "      <th>32551</th>\n",
       "      <td>1498639</td>\n",
       "      <td>51</td>\n",
       "      <td>61</td>\n",
       "      <td>1216</td>\n",
       "      <td>0.519238</td>\n",
       "      <td>0.355701</td>\n",
       "      <td>0</td>\n",
       "      <td>0</td>\n",
       "      <td>473</td>\n",
       "      <td>77</td>\n",
       "      <td>TYPE_A</td>\n",
       "      <td>4.5</td>\n",
       "      <td>Pasta</td>\n",
       "      <td>Italian</td>\n",
       "    </tr>\n",
       "    <tr>\n",
       "      <th>32552</th>\n",
       "      <td>1430032</td>\n",
       "      <td>51</td>\n",
       "      <td>61</td>\n",
       "      <td>2126</td>\n",
       "      <td>1.152653</td>\n",
       "      <td>0.955780</td>\n",
       "      <td>0</td>\n",
       "      <td>0</td>\n",
       "      <td>473</td>\n",
       "      <td>77</td>\n",
       "      <td>TYPE_A</td>\n",
       "      <td>4.5</td>\n",
       "      <td>Pasta</td>\n",
       "      <td>Italian</td>\n",
       "    </tr>\n",
       "    <tr>\n",
       "      <th>32553</th>\n",
       "      <td>1111480</td>\n",
       "      <td>51</td>\n",
       "      <td>61</td>\n",
       "      <td>2826</td>\n",
       "      <td>-0.031100</td>\n",
       "      <td>-0.171857</td>\n",
       "      <td>0</td>\n",
       "      <td>0</td>\n",
       "      <td>473</td>\n",
       "      <td>77</td>\n",
       "      <td>TYPE_A</td>\n",
       "      <td>4.5</td>\n",
       "      <td>Sandwich</td>\n",
       "      <td>Italian</td>\n",
       "    </tr>\n",
       "    <tr>\n",
       "      <th>32554</th>\n",
       "      <td>1449841</td>\n",
       "      <td>51</td>\n",
       "      <td>61</td>\n",
       "      <td>1754</td>\n",
       "      <td>-0.069081</td>\n",
       "      <td>-0.207839</td>\n",
       "      <td>0</td>\n",
       "      <td>0</td>\n",
       "      <td>473</td>\n",
       "      <td>77</td>\n",
       "      <td>TYPE_A</td>\n",
       "      <td>4.5</td>\n",
       "      <td>Sandwich</td>\n",
       "      <td>Italian</td>\n",
       "    </tr>\n",
       "    <tr>\n",
       "      <th>32555</th>\n",
       "      <td>1290329</td>\n",
       "      <td>51</td>\n",
       "      <td>61</td>\n",
       "      <td>1971</td>\n",
       "      <td>-0.024966</td>\n",
       "      <td>-0.159862</td>\n",
       "      <td>0</td>\n",
       "      <td>0</td>\n",
       "      <td>473</td>\n",
       "      <td>77</td>\n",
       "      <td>TYPE_A</td>\n",
       "      <td>4.5</td>\n",
       "      <td>Sandwich</td>\n",
       "      <td>Italian</td>\n",
       "    </tr>\n",
       "    <tr>\n",
       "      <th>32556</th>\n",
       "      <td>1324280</td>\n",
       "      <td>51</td>\n",
       "      <td>61</td>\n",
       "      <td>1902</td>\n",
       "      <td>0.740992</td>\n",
       "      <td>0.559602</td>\n",
       "      <td>0</td>\n",
       "      <td>0</td>\n",
       "      <td>473</td>\n",
       "      <td>77</td>\n",
       "      <td>TYPE_A</td>\n",
       "      <td>4.5</td>\n",
       "      <td>Biryani</td>\n",
       "      <td>Indian</td>\n",
       "    </tr>\n",
       "    <tr>\n",
       "      <th>32557</th>\n",
       "      <td>1457838</td>\n",
       "      <td>51</td>\n",
       "      <td>61</td>\n",
       "      <td>1247</td>\n",
       "      <td>0.740992</td>\n",
       "      <td>0.559602</td>\n",
       "      <td>0</td>\n",
       "      <td>0</td>\n",
       "      <td>473</td>\n",
       "      <td>77</td>\n",
       "      <td>TYPE_A</td>\n",
       "      <td>4.5</td>\n",
       "      <td>Biryani</td>\n",
       "      <td>Indian</td>\n",
       "    </tr>\n",
       "    <tr>\n",
       "      <th>32558</th>\n",
       "      <td>1222394</td>\n",
       "      <td>51</td>\n",
       "      <td>61</td>\n",
       "      <td>1558</td>\n",
       "      <td>1.500424</td>\n",
       "      <td>1.291431</td>\n",
       "      <td>0</td>\n",
       "      <td>0</td>\n",
       "      <td>473</td>\n",
       "      <td>77</td>\n",
       "      <td>TYPE_A</td>\n",
       "      <td>4.5</td>\n",
       "      <td>Pizza</td>\n",
       "      <td>Continental</td>\n",
       "    </tr>\n",
       "    <tr>\n",
       "      <th>32559</th>\n",
       "      <td>1141545</td>\n",
       "      <td>51</td>\n",
       "      <td>61</td>\n",
       "      <td>2581</td>\n",
       "      <td>1.513476</td>\n",
       "      <td>1.285249</td>\n",
       "      <td>0</td>\n",
       "      <td>0</td>\n",
       "      <td>473</td>\n",
       "      <td>77</td>\n",
       "      <td>TYPE_A</td>\n",
       "      <td>4.5</td>\n",
       "      <td>Pizza</td>\n",
       "      <td>Continental</td>\n",
       "    </tr>\n",
       "    <tr>\n",
       "      <th>32560</th>\n",
       "      <td>1363040</td>\n",
       "      <td>51</td>\n",
       "      <td>61</td>\n",
       "      <td>1962</td>\n",
       "      <td>1.513476</td>\n",
       "      <td>1.297614</td>\n",
       "      <td>0</td>\n",
       "      <td>0</td>\n",
       "      <td>473</td>\n",
       "      <td>77</td>\n",
       "      <td>TYPE_A</td>\n",
       "      <td>4.5</td>\n",
       "      <td>Pizza</td>\n",
       "      <td>Continental</td>\n",
       "    </tr>\n",
       "    <tr>\n",
       "      <th>32561</th>\n",
       "      <td>1330159</td>\n",
       "      <td>51</td>\n",
       "      <td>61</td>\n",
       "      <td>1445</td>\n",
       "      <td>2.266774</td>\n",
       "      <td>2.011267</td>\n",
       "      <td>0</td>\n",
       "      <td>0</td>\n",
       "      <td>473</td>\n",
       "      <td>77</td>\n",
       "      <td>TYPE_A</td>\n",
       "      <td>4.5</td>\n",
       "      <td>Seafood</td>\n",
       "      <td>Continental</td>\n",
       "    </tr>\n",
       "    <tr>\n",
       "      <th>32562</th>\n",
       "      <td>1070377</td>\n",
       "      <td>51</td>\n",
       "      <td>61</td>\n",
       "      <td>2444</td>\n",
       "      <td>2.253722</td>\n",
       "      <td>2.011267</td>\n",
       "      <td>0</td>\n",
       "      <td>0</td>\n",
       "      <td>473</td>\n",
       "      <td>77</td>\n",
       "      <td>TYPE_A</td>\n",
       "      <td>4.5</td>\n",
       "      <td>Seafood</td>\n",
       "      <td>Continental</td>\n",
       "    </tr>\n",
       "    <tr>\n",
       "      <th>32563</th>\n",
       "      <td>1001148</td>\n",
       "      <td>51</td>\n",
       "      <td>61</td>\n",
       "      <td>2867</td>\n",
       "      <td>2.253722</td>\n",
       "      <td>2.005084</td>\n",
       "      <td>0</td>\n",
       "      <td>0</td>\n",
       "      <td>473</td>\n",
       "      <td>77</td>\n",
       "      <td>TYPE_A</td>\n",
       "      <td>4.5</td>\n",
       "      <td>Seafood</td>\n",
       "      <td>Continental</td>\n",
       "    </tr>\n",
       "    <tr>\n",
       "      <th>32564</th>\n",
       "      <td>1169203</td>\n",
       "      <td>51</td>\n",
       "      <td>61</td>\n",
       "      <td>2760</td>\n",
       "      <td>-0.582026</td>\n",
       "      <td>-0.687606</td>\n",
       "      <td>0</td>\n",
       "      <td>0</td>\n",
       "      <td>473</td>\n",
       "      <td>77</td>\n",
       "      <td>TYPE_A</td>\n",
       "      <td>4.5</td>\n",
       "      <td>Other Snacks</td>\n",
       "      <td>Thai</td>\n",
       "    </tr>\n",
       "    <tr>\n",
       "      <th>32565</th>\n",
       "      <td>1389523</td>\n",
       "      <td>51</td>\n",
       "      <td>61</td>\n",
       "      <td>1525</td>\n",
       "      <td>-0.081938</td>\n",
       "      <td>-0.220019</td>\n",
       "      <td>0</td>\n",
       "      <td>0</td>\n",
       "      <td>473</td>\n",
       "      <td>77</td>\n",
       "      <td>TYPE_A</td>\n",
       "      <td>4.5</td>\n",
       "      <td>Other Snacks</td>\n",
       "      <td>Thai</td>\n",
       "    </tr>\n",
       "    <tr>\n",
       "      <th>32566</th>\n",
       "      <td>1304998</td>\n",
       "      <td>51</td>\n",
       "      <td>61</td>\n",
       "      <td>2704</td>\n",
       "      <td>-0.075412</td>\n",
       "      <td>-0.207654</td>\n",
       "      <td>0</td>\n",
       "      <td>0</td>\n",
       "      <td>473</td>\n",
       "      <td>77</td>\n",
       "      <td>TYPE_A</td>\n",
       "      <td>4.5</td>\n",
       "      <td>Other Snacks</td>\n",
       "      <td>Thai</td>\n",
       "    </tr>\n",
       "    <tr>\n",
       "      <th>32567</th>\n",
       "      <td>1462767</td>\n",
       "      <td>51</td>\n",
       "      <td>61</td>\n",
       "      <td>2492</td>\n",
       "      <td>0.810821</td>\n",
       "      <td>0.631938</td>\n",
       "      <td>0</td>\n",
       "      <td>0</td>\n",
       "      <td>473</td>\n",
       "      <td>77</td>\n",
       "      <td>TYPE_A</td>\n",
       "      <td>4.5</td>\n",
       "      <td>Desert</td>\n",
       "      <td>Indian</td>\n",
       "    </tr>\n",
       "    <tr>\n",
       "      <th>32568</th>\n",
       "      <td>1250239</td>\n",
       "      <td>51</td>\n",
       "      <td>61</td>\n",
       "      <td>1543</td>\n",
       "      <td>0.975015</td>\n",
       "      <td>0.799856</td>\n",
       "      <td>0</td>\n",
       "      <td>0</td>\n",
       "      <td>473</td>\n",
       "      <td>77</td>\n",
       "      <td>TYPE_A</td>\n",
       "      <td>4.5</td>\n",
       "      <td>Desert</td>\n",
       "      <td>Indian</td>\n",
       "    </tr>\n",
       "    <tr>\n",
       "      <th>32569</th>\n",
       "      <td>1039516</td>\n",
       "      <td>51</td>\n",
       "      <td>61</td>\n",
       "      <td>2304</td>\n",
       "      <td>0.981541</td>\n",
       "      <td>0.793674</td>\n",
       "      <td>0</td>\n",
       "      <td>0</td>\n",
       "      <td>473</td>\n",
       "      <td>77</td>\n",
       "      <td>TYPE_A</td>\n",
       "      <td>4.5</td>\n",
       "      <td>Desert</td>\n",
       "      <td>Indian</td>\n",
       "    </tr>\n",
       "    <tr>\n",
       "      <th>32570</th>\n",
       "      <td>1158107</td>\n",
       "      <td>51</td>\n",
       "      <td>61</td>\n",
       "      <td>2664</td>\n",
       "      <td>-0.069277</td>\n",
       "      <td>-0.195659</td>\n",
       "      <td>0</td>\n",
       "      <td>0</td>\n",
       "      <td>473</td>\n",
       "      <td>77</td>\n",
       "      <td>TYPE_A</td>\n",
       "      <td>4.5</td>\n",
       "      <td>Salad</td>\n",
       "      <td>Italian</td>\n",
       "    </tr>\n",
       "    <tr>\n",
       "      <th>32571</th>\n",
       "      <td>1444235</td>\n",
       "      <td>51</td>\n",
       "      <td>61</td>\n",
       "      <td>2569</td>\n",
       "      <td>-0.069277</td>\n",
       "      <td>-0.195659</td>\n",
       "      <td>0</td>\n",
       "      <td>0</td>\n",
       "      <td>473</td>\n",
       "      <td>77</td>\n",
       "      <td>TYPE_A</td>\n",
       "      <td>4.5</td>\n",
       "      <td>Salad</td>\n",
       "      <td>Italian</td>\n",
       "    </tr>\n",
       "    <tr>\n",
       "      <th>32572</th>\n",
       "      <td>1291286</td>\n",
       "      <td>51</td>\n",
       "      <td>61</td>\n",
       "      <td>2490</td>\n",
       "      <td>-0.366994</td>\n",
       "      <td>-0.483890</td>\n",
       "      <td>0</td>\n",
       "      <td>0</td>\n",
       "      <td>473</td>\n",
       "      <td>77</td>\n",
       "      <td>TYPE_A</td>\n",
       "      <td>4.5</td>\n",
       "      <td>Salad</td>\n",
       "      <td>Italian</td>\n",
       "    </tr>\n",
       "  </tbody>\n",
       "</table>\n",
       "<p>32573 rows × 14 columns</p>\n",
       "</div>"
      ],
      "text/plain": [
       "            id week center_id meal_id  checkout_price  base_price  \\\n",
       "0      1028232   42        55    1885       -1.139282   -1.209352   \n",
       "1      1127204   42        55    1993       -1.126230   -1.209352   \n",
       "2      1212707   42        55    2539       -1.145612   -1.209166   \n",
       "3      1082698   42        55    2631       -1.113765   -1.191361   \n",
       "4      1400926   42        55    1248       -1.101300   -1.179552   \n",
       "5      1284113   42        55    1778       -0.930188   -1.017445   \n",
       "6      1197966   42        55    1062       -0.924054   -1.005451   \n",
       "7      1132739   42        55    2707       -0.588160   -0.705782   \n",
       "8      1057981   42        55    1207        0.184128    0.038227   \n",
       "9      1095932   42        55    1230        0.329527    0.182157   \n",
       "10     1454421   42        55    2322        0.367509    0.218139   \n",
       "11     1149765   42        55    2290       -0.196078   -0.315787   \n",
       "12     1166964   42        55    1727        0.874123    0.685726   \n",
       "13     1010949   42        55    1109       -0.151766   -0.273807   \n",
       "14     1409575   42        55    2577       -0.081938   -0.213836   \n",
       "15     1181616   42        55    2640       -0.088464   -0.220019   \n",
       "16     1456020   42        55    2826        0.291350    0.152171   \n",
       "17     1264395   42        55    1754       -0.018440   -0.153680   \n",
       "18     1472931   42        55    1971        0.076122   -0.064095   \n",
       "19     1412015   42        55    1198       -1.284877   -1.017260   \n",
       "20     1461229   42        55    1311       -0.967974   -0.783374   \n",
       "21     1014564   42        55    1803       -0.929993   -0.687420   \n",
       "22     1485914   42        55    1558        1.500424    1.285249   \n",
       "23     1345389   42        55    2581        1.506950    1.291431   \n",
       "24     1006833   42        55    1962        1.500424    1.291431   \n",
       "25     1174921   42        55    2444        2.570233    2.304938   \n",
       "26     1175393   42        55    2867        2.570233    2.304938   \n",
       "27     1152412   42        55    1525       -0.081938   -0.220019   \n",
       "28     1497398   42        55    2704       -0.081938   -0.207654   \n",
       "29     1363486   42        55    2492        0.361178    0.199777   \n",
       "...        ...  ...       ...     ...             ...         ...   \n",
       "32543  1234660   51        61    2290       -0.892207   -0.387752   \n",
       "32544  1404408   51        61    1727        0.734466    0.571967   \n",
       "32545  1234776   51        61    1109       -0.253050   -0.363578   \n",
       "32546  1349215   51        61    1571        2.253722    1.998902   \n",
       "32547  1207249   51        61    2577       -0.088464   -0.213836   \n",
       "32548  1414921   51        61    2640       -0.075412   -0.207654   \n",
       "32549  1126947   51        61    1878       -0.088464   -0.213836   \n",
       "32550  1096124   51        61    2306        0.032202   -0.118068   \n",
       "32551  1498639   51        61    1216        0.519238    0.355701   \n",
       "32552  1430032   51        61    2126        1.152653    0.955780   \n",
       "32553  1111480   51        61    2826       -0.031100   -0.171857   \n",
       "32554  1449841   51        61    1754       -0.069081   -0.207839   \n",
       "32555  1290329   51        61    1971       -0.024966   -0.159862   \n",
       "32556  1324280   51        61    1902        0.740992    0.559602   \n",
       "32557  1457838   51        61    1247        0.740992    0.559602   \n",
       "32558  1222394   51        61    1558        1.500424    1.291431   \n",
       "32559  1141545   51        61    2581        1.513476    1.285249   \n",
       "32560  1363040   51        61    1962        1.513476    1.297614   \n",
       "32561  1330159   51        61    1445        2.266774    2.011267   \n",
       "32562  1070377   51        61    2444        2.253722    2.011267   \n",
       "32563  1001148   51        61    2867        2.253722    2.005084   \n",
       "32564  1169203   51        61    2760       -0.582026   -0.687606   \n",
       "32565  1389523   51        61    1525       -0.081938   -0.220019   \n",
       "32566  1304998   51        61    2704       -0.075412   -0.207654   \n",
       "32567  1462767   51        61    2492        0.810821    0.631938   \n",
       "32568  1250239   51        61    1543        0.975015    0.799856   \n",
       "32569  1039516   51        61    2304        0.981541    0.793674   \n",
       "32570  1158107   51        61    2664       -0.069277   -0.195659   \n",
       "32571  1444235   51        61    2569       -0.069277   -0.195659   \n",
       "32572  1291286   51        61    2490       -0.366994   -0.483890   \n",
       "\n",
       "      emailer_for_promotion homepage_featured city_code region_code  \\\n",
       "0                         0                 0       647          56   \n",
       "1                         0                 0       647          56   \n",
       "2                         0                 0       647          56   \n",
       "3                         0                 0       647          56   \n",
       "4                         0                 0       647          56   \n",
       "5                         0                 0       647          56   \n",
       "6                         0                 0       647          56   \n",
       "7                         0                 0       647          56   \n",
       "8                         0                 0       647          56   \n",
       "9                         0                 0       647          56   \n",
       "10                        0                 0       647          56   \n",
       "11                        0                 0       647          56   \n",
       "12                        0                 0       647          56   \n",
       "13                        0                 0       647          56   \n",
       "14                        0                 1       647          56   \n",
       "15                        0                 0       647          56   \n",
       "16                        0                 0       647          56   \n",
       "17                        0                 0       647          56   \n",
       "18                        0                 0       647          56   \n",
       "19                        0                 0       647          56   \n",
       "20                        0                 0       647          56   \n",
       "21                        0                 0       647          56   \n",
       "22                        0                 0       647          56   \n",
       "23                        0                 0       647          56   \n",
       "24                        0                 0       647          56   \n",
       "25                        0                 0       647          56   \n",
       "26                        0                 0       647          56   \n",
       "27                        0                 0       647          56   \n",
       "28                        0                 0       647          56   \n",
       "29                        0                 0       647          56   \n",
       "...                     ...               ...       ...         ...   \n",
       "32543                     1                 1       473          77   \n",
       "32544                     0                 0       473          77   \n",
       "32545                     0                 0       473          77   \n",
       "32546                     0                 0       473          77   \n",
       "32547                     0                 0       473          77   \n",
       "32548                     0                 0       473          77   \n",
       "32549                     0                 0       473          77   \n",
       "32550                     0                 0       473          77   \n",
       "32551                     0                 0       473          77   \n",
       "32552                     0                 0       473          77   \n",
       "32553                     0                 0       473          77   \n",
       "32554                     0                 0       473          77   \n",
       "32555                     0                 0       473          77   \n",
       "32556                     0                 0       473          77   \n",
       "32557                     0                 0       473          77   \n",
       "32558                     0                 0       473          77   \n",
       "32559                     0                 0       473          77   \n",
       "32560                     0                 0       473          77   \n",
       "32561                     0                 0       473          77   \n",
       "32562                     0                 0       473          77   \n",
       "32563                     0                 0       473          77   \n",
       "32564                     0                 0       473          77   \n",
       "32565                     0                 0       473          77   \n",
       "32566                     0                 0       473          77   \n",
       "32567                     0                 0       473          77   \n",
       "32568                     0                 0       473          77   \n",
       "32569                     0                 0       473          77   \n",
       "32570                     0                 0       473          77   \n",
       "32571                     0                 0       473          77   \n",
       "32572                     0                 0       473          77   \n",
       "\n",
       "      center_type op_area      category      cuisine  \n",
       "0          TYPE_C     2.0     Beverages         Thai  \n",
       "1          TYPE_C     2.0     Beverages         Thai  \n",
       "2          TYPE_C     2.0     Beverages         Thai  \n",
       "3          TYPE_C     2.0     Beverages       Indian  \n",
       "4          TYPE_C     2.0     Beverages       Indian  \n",
       "5          TYPE_C     2.0     Beverages      Italian  \n",
       "6          TYPE_C     2.0     Beverages      Italian  \n",
       "7          TYPE_C     2.0     Beverages      Italian  \n",
       "8          TYPE_C     2.0     Beverages  Continental  \n",
       "9          TYPE_C     2.0     Beverages  Continental  \n",
       "10         TYPE_C     2.0     Beverages  Continental  \n",
       "11         TYPE_C     2.0     Rice Bowl       Indian  \n",
       "12         TYPE_C     2.0     Rice Bowl       Indian  \n",
       "13         TYPE_C     2.0     Rice Bowl       Indian  \n",
       "14         TYPE_C     2.0      Starters         Thai  \n",
       "15         TYPE_C     2.0      Starters         Thai  \n",
       "16         TYPE_C     2.0      Sandwich      Italian  \n",
       "17         TYPE_C     2.0      Sandwich      Italian  \n",
       "18         TYPE_C     2.0      Sandwich      Italian  \n",
       "19         TYPE_C     2.0        Extras         Thai  \n",
       "20         TYPE_C     2.0        Extras         Thai  \n",
       "21         TYPE_C     2.0        Extras         Thai  \n",
       "22         TYPE_C     2.0         Pizza  Continental  \n",
       "23         TYPE_C     2.0         Pizza  Continental  \n",
       "24         TYPE_C     2.0         Pizza  Continental  \n",
       "25         TYPE_C     2.0       Seafood  Continental  \n",
       "26         TYPE_C     2.0       Seafood  Continental  \n",
       "27         TYPE_C     2.0  Other Snacks         Thai  \n",
       "28         TYPE_C     2.0  Other Snacks         Thai  \n",
       "29         TYPE_C     2.0        Desert       Indian  \n",
       "...           ...     ...           ...          ...  \n",
       "32543      TYPE_A     4.5     Rice Bowl       Indian  \n",
       "32544      TYPE_A     4.5     Rice Bowl       Indian  \n",
       "32545      TYPE_A     4.5     Rice Bowl       Indian  \n",
       "32546      TYPE_A     4.5          Fish  Continental  \n",
       "32547      TYPE_A     4.5      Starters         Thai  \n",
       "32548      TYPE_A     4.5      Starters         Thai  \n",
       "32549      TYPE_A     4.5      Starters         Thai  \n",
       "32550      TYPE_A     4.5         Pasta      Italian  \n",
       "32551      TYPE_A     4.5         Pasta      Italian  \n",
       "32552      TYPE_A     4.5         Pasta      Italian  \n",
       "32553      TYPE_A     4.5      Sandwich      Italian  \n",
       "32554      TYPE_A     4.5      Sandwich      Italian  \n",
       "32555      TYPE_A     4.5      Sandwich      Italian  \n",
       "32556      TYPE_A     4.5       Biryani       Indian  \n",
       "32557      TYPE_A     4.5       Biryani       Indian  \n",
       "32558      TYPE_A     4.5         Pizza  Continental  \n",
       "32559      TYPE_A     4.5         Pizza  Continental  \n",
       "32560      TYPE_A     4.5         Pizza  Continental  \n",
       "32561      TYPE_A     4.5       Seafood  Continental  \n",
       "32562      TYPE_A     4.5       Seafood  Continental  \n",
       "32563      TYPE_A     4.5       Seafood  Continental  \n",
       "32564      TYPE_A     4.5  Other Snacks         Thai  \n",
       "32565      TYPE_A     4.5  Other Snacks         Thai  \n",
       "32566      TYPE_A     4.5  Other Snacks         Thai  \n",
       "32567      TYPE_A     4.5        Desert       Indian  \n",
       "32568      TYPE_A     4.5        Desert       Indian  \n",
       "32569      TYPE_A     4.5        Desert       Indian  \n",
       "32570      TYPE_A     4.5         Salad      Italian  \n",
       "32571      TYPE_A     4.5         Salad      Italian  \n",
       "32572      TYPE_A     4.5         Salad      Italian  \n",
       "\n",
       "[32573 rows x 14 columns]"
      ]
     },
     "execution_count": 127,
     "metadata": {},
     "output_type": "execute_result"
    }
   ],
   "source": [
    "test_fci_mi"
   ]
  },
  {
   "cell_type": "markdown",
   "metadata": {},
   "source": [
    "## Preprocessing \n",
    "* fill missing\n",
    "* Categorify the data categories\n",
    "* Normalize\n",
    "* As weeks was continous numbers modulous of 52 would give better insight for seasonality"
   ]
  },
  {
   "cell_type": "code",
   "execution_count": 59,
   "metadata": {},
   "outputs": [],
   "source": [
    "procs=[FillMissing, Categorify, Normalize]"
   ]
  },
  {
   "cell_type": "code",
   "execution_count": 60,
   "metadata": {},
   "outputs": [],
   "source": [
    "train_fci_mi['week'] = train_fci_mi['week']%52\n",
    "test_fci_mi['week'] = test_fci_mi['week']%52"
   ]
  },
  {
   "cell_type": "markdown",
   "metadata": {},
   "source": [
    "## Segregating categorical and continous variabes also target"
   ]
  },
  {
   "cell_type": "code",
   "execution_count": 69,
   "metadata": {},
   "outputs": [],
   "source": [
    "cat_vars = ['week', 'city_code', 'region_code','op_area','meal_id','center_id', 'center_type', 'category', 'cuisine', 'emailer_for_promotion', 'homepage_featured']\n",
    "cont_vars = ['checkout_price', 'base_price']\n",
    "dep_var = ['num_orders']"
   ]
  },
  {
   "cell_type": "code",
   "execution_count": 70,
   "metadata": {},
   "outputs": [],
   "source": [
    "df = train_fci_mi[cat_vars + cont_vars + dep_var].copy()"
   ]
  },
  {
   "cell_type": "markdown",
   "metadata": {},
   "source": [
    "## Validation Range"
   ]
  },
  {
   "cell_type": "code",
   "execution_count": 71,
   "metadata": {},
   "outputs": [],
   "source": [
    "val_cut = range(int(.1*len(train_df)))"
   ]
  },
  {
   "cell_type": "markdown",
   "metadata": {},
   "source": [
    "## Preparing list"
   ]
  },
  {
   "cell_type": "code",
   "execution_count": 72,
   "metadata": {},
   "outputs": [],
   "source": [
    "data = (TabularList.from_df(df, cat_names=cat_vars, cont_names=cont_vars, procs=procs)\n",
    "                   .split_by_idx(val_cut)\n",
    "                   .label_from_df(cols=dep_var, label_cls=FloatList, log=True)\n",
    "                    .add_test(ItemList.from_df(test_fci_mi))\n",
    "                   .databunch())"
   ]
  },
  {
   "cell_type": "markdown",
   "metadata": {},
   "source": [
    "## range of values slighty added coz of sigmoid"
   ]
  },
  {
   "cell_type": "code",
   "execution_count": 129,
   "metadata": {},
   "outputs": [],
   "source": [
    "max_log_y = np.log(np.max(train_df['num_orders'])*1.2)\n",
    "y_range = torch.tensor([0, max_log_y], device=defaults.device)"
   ]
  },
  {
   "cell_type": "markdown",
   "metadata": {},
   "source": [
    "## Metric root mean square log error"
   ]
  },
  {
   "cell_type": "code",
   "execution_count": 81,
   "metadata": {},
   "outputs": [],
   "source": [
    "def rmsle(pred:FloatTensor, targ:FloatTensor)->Rank0Tensor:\n",
    "    \"Exp RMSE between `pred` and `targ`.\"\n",
    "    assert pred.numel() == targ.numel(), \"Expected same numbers of elements in pred & targ\"\n",
    "    if len(pred.shape)==2: pred=pred.squeeze(1)\n",
    "    pct_var = torch.log((pred+1)/(targ+1))\n",
    "    return torch.sqrt((pct_var**2).mean())*100"
   ]
  },
  {
   "cell_type": "markdown",
   "metadata": {},
   "source": [
    "## Learner with full connected network for continous varibale and embeddings for categorical variables"
   ]
  },
  {
   "cell_type": "code",
   "execution_count": 92,
   "metadata": {},
   "outputs": [],
   "source": [
    "learn = tabular_learner(data, layers=[500,200], ps=[0.1,0.1], emb_drop=0.2, \n",
    "                        y_range=y_range, metrics=[rmsle,exp_rmspe])"
   ]
  },
  {
   "cell_type": "code",
   "execution_count": 93,
   "metadata": {},
   "outputs": [
    {
     "data": {
      "text/plain": [
       "TabularModel(\n",
       "  (embeds): ModuleList(\n",
       "    (0): Embedding(53, 15)\n",
       "    (1): Embedding(52, 15)\n",
       "    (2): Embedding(9, 5)\n",
       "    (3): Embedding(31, 11)\n",
       "    (4): Embedding(52, 15)\n",
       "    (5): Embedding(78, 18)\n",
       "    (6): Embedding(4, 3)\n",
       "    (7): Embedding(15, 7)\n",
       "    (8): Embedding(5, 4)\n",
       "    (9): Embedding(3, 3)\n",
       "    (10): Embedding(3, 3)\n",
       "  )\n",
       "  (emb_drop): Dropout(p=0.2)\n",
       "  (bn_cont): BatchNorm1d(2, eps=1e-05, momentum=0.1, affine=True, track_running_stats=True)\n",
       "  (layers): Sequential(\n",
       "    (0): Linear(in_features=101, out_features=500, bias=True)\n",
       "    (1): ReLU(inplace)\n",
       "    (2): BatchNorm1d(500, eps=1e-05, momentum=0.1, affine=True, track_running_stats=True)\n",
       "    (3): Dropout(p=0.1)\n",
       "    (4): Linear(in_features=500, out_features=200, bias=True)\n",
       "    (5): ReLU(inplace)\n",
       "    (6): BatchNorm1d(200, eps=1e-05, momentum=0.1, affine=True, track_running_stats=True)\n",
       "    (7): Dropout(p=0.1)\n",
       "    (8): Linear(in_features=200, out_features=1, bias=True)\n",
       "  )\n",
       ")"
      ]
     },
     "execution_count": 93,
     "metadata": {},
     "output_type": "execute_result"
    }
   ],
   "source": [
    "learn.model"
   ]
  },
  {
   "cell_type": "markdown",
   "metadata": {},
   "source": [
    "## Looking for apt LR"
   ]
  },
  {
   "cell_type": "code",
   "execution_count": 94,
   "metadata": {},
   "outputs": [
    {
     "name": "stdout",
     "output_type": "stream",
     "text": [
      "LR Finder is complete, type {learner_name}.recorder.plot() to see the graph.\n"
     ]
    }
   ],
   "source": [
    "learn.lr_find()"
   ]
  },
  {
   "cell_type": "code",
   "execution_count": 95,
   "metadata": {},
   "outputs": [
    {
     "data": {
      "image/png": "[encoded data removed]",
      "text/plain": [
       "<Figure size 432x288 with 1 Axes>"
      ]
     },
     "metadata": {
      "needs_background": "light"
     },
     "output_type": "display_data"
    }
   ],
   "source": [
    "learn.recorder.plot()"
   ]
  },
  {
   "cell_type": "markdown",
   "metadata": {},
   "source": [
    "## Training"
   ]
  },
  {
   "cell_type": "code",
   "execution_count": 96,
   "metadata": {},
   "outputs": [
    {
     "data": {
      "text/html": [
       "Total time: 10:22 <p><table style='width:375px; margin-bottom:10px'>\n",
       "  <tr>\n",
       "    <th>epoch</th>\n",
       "    <th>train_loss</th>\n",
       "    <th>valid_loss</th>\n",
       "    <th>rmsle</th>\n",
       "    <th>exp_rmspe</th>\n",
       "  </tr>\n",
       "  <tr>\n",
       "    <th>1</th>\n",
       "    <th>0.362233</th>\n",
       "    <th>0.338783</th>\n",
       "    <th>11.006934</th>\n",
       "    <th>0.845434</th>\n",
       "  </tr>\n",
       "  <tr>\n",
       "    <th>2</th>\n",
       "    <th>0.324291</th>\n",
       "    <th>0.327673</th>\n",
       "    <th>10.821405</th>\n",
       "    <th>0.867964</th>\n",
       "  </tr>\n",
       "  <tr>\n",
       "    <th>3</th>\n",
       "    <th>0.314295</th>\n",
       "    <th>0.323149</th>\n",
       "    <th>10.819282</th>\n",
       "    <th>0.911162</th>\n",
       "  </tr>\n",
       "  <tr>\n",
       "    <th>4</th>\n",
       "    <th>0.285635</th>\n",
       "    <th>0.323191</th>\n",
       "    <th>10.710593</th>\n",
       "    <th>0.782686</th>\n",
       "  </tr>\n",
       "  <tr>\n",
       "    <th>5</th>\n",
       "    <th>0.289757</th>\n",
       "    <th>0.320646</th>\n",
       "    <th>10.690928</th>\n",
       "    <th>0.805766</th>\n",
       "  </tr>\n",
       "</table>\n"
      ],
      "text/plain": [
       "<IPython.core.display.HTML object>"
      ]
     },
     "metadata": {},
     "output_type": "display_data"
    }
   ],
   "source": [
    "learn.fit_one_cycle(5, 3e-4, wd=0.2)"
   ]
  },
  {
   "cell_type": "code",
   "execution_count": 97,
   "metadata": {},
   "outputs": [
    {
     "data": {
      "text/html": [
       "Total time: 07:46 <p><table style='width:375px; margin-bottom:10px'>\n",
       "  <tr>\n",
       "    <th>epoch</th>\n",
       "    <th>train_loss</th>\n",
       "    <th>valid_loss</th>\n",
       "    <th>rmsle</th>\n",
       "    <th>exp_rmspe</th>\n",
       "  </tr>\n",
       "  <tr>\n",
       "    <th>1</th>\n",
       "    <th>0.292178</th>\n",
       "    <th>0.321744</th>\n",
       "    <th>10.736247</th>\n",
       "    <th>0.853881</th>\n",
       "  </tr>\n",
       "  <tr>\n",
       "    <th>2</th>\n",
       "    <th>0.290060</th>\n",
       "    <th>0.320912</th>\n",
       "    <th>10.727388</th>\n",
       "    <th>0.850803</th>\n",
       "  </tr>\n",
       "  <tr>\n",
       "    <th>3</th>\n",
       "    <th>0.284002</th>\n",
       "    <th>0.320816</th>\n",
       "    <th>10.712082</th>\n",
       "    <th>0.820924</th>\n",
       "  </tr>\n",
       "  <tr>\n",
       "    <th>4</th>\n",
       "    <th>0.277904</th>\n",
       "    <th>0.318747</th>\n",
       "    <th>10.707828</th>\n",
       "    <th>0.865647</th>\n",
       "  </tr>\n",
       "  <tr>\n",
       "    <th>5</th>\n",
       "    <th>0.269381</th>\n",
       "    <th>0.322301</th>\n",
       "    <th>10.708161</th>\n",
       "    <th>0.780298</th>\n",
       "  </tr>\n",
       "</table>\n"
      ],
      "text/plain": [
       "<IPython.core.display.HTML object>"
      ]
     },
     "metadata": {},
     "output_type": "display_data"
    }
   ],
   "source": [
    "learn.fit_one_cycle(5, 3e-5)"
   ]
  },
  {
   "cell_type": "code",
   "execution_count": 124,
   "metadata": {},
   "outputs": [
    {
     "data": {
      "text/plain": [
       "Learner(data=TabularDataBunch;\n",
       "\n",
       "Train: LabelList\n",
       "y: FloatList (410894 items)\n",
       "[FloatItem 5.736572297479192, FloatItem 5.863631175598097, FloatItem 4.394449154672439, FloatItem 5.003946305945459, FloatItem 4.406719247264253]...\n",
       "Path: .\n",
       "x: TabularList (410894 items)\n",
       "[TabularLine week 16; city_code 473; region_code 77; op_area 4.5; meal_id 1062; center_id 61; center_type TYPE_A; category Beverages; cuisine Italian; emailer_for_promotion 0; homepage_featured 0; checkout_price -1.0127; base_price -1.0832; , TabularLine week 16; city_code 473; region_code 77; op_area 4.5; meal_id 2707; center_id 61; center_type TYPE_A; category Beverages; cuisine Italian; emailer_for_promotion 0; homepage_featured 0; checkout_price -0.9237; base_price -1.0236; , TabularLine week 16; city_code 473; region_code 77; op_area 4.5; meal_id 1207; center_id 61; center_type TYPE_A; category Beverages; cuisine Continental; emailer_for_promotion 0; homepage_featured 0; checkout_price -0.0817; base_price -0.2137; , TabularLine week 16; city_code 473; region_code 77; op_area 4.5; meal_id 1230; center_id 61; center_type TYPE_A; category Beverages; cuisine Continental; emailer_for_promotion 0; homepage_featured 0; checkout_price -0.0821; base_price -0.2140; , TabularLine week 16; city_code 473; region_code 77; op_area 4.5; meal_id 2322; center_id 61; center_type TYPE_A; category Beverages; cuisine Continental; emailer_for_promotion 0; homepage_featured 0; checkout_price -0.0501; base_price -0.1960; ]...\n",
       "Path: .;\n",
       "\n",
       "Valid: LabelList\n",
       "y: FloatList (45654 items)\n",
       "[FloatItem 5.176149732573829, FloatItem 5.598421958998375, FloatItem 5.241747015059643, FloatItem 3.9889840465642745, FloatItem 3.6888794541139363]...\n",
       "Path: .\n",
       "x: TabularList (45654 items)\n",
       "[TabularLine week 1; city_code 647; region_code 56; op_area 2.0; meal_id 1885; center_id 55; center_type TYPE_C; category Beverages; cuisine Thai; emailer_for_promotion 0; homepage_featured 0; checkout_price -1.2782; base_price -1.2515; , TabularLine week 1; city_code 647; region_code 56; op_area 2.0; meal_id 1993; center_id 55; center_type TYPE_C; category Beverages; cuisine Thai; emailer_for_promotion 0; homepage_featured 0; checkout_price -1.2782; base_price -1.3533; , TabularLine week 1; city_code 647; region_code 56; op_area 2.0; meal_id 2539; center_id 55; center_type TYPE_C; category Beverages; cuisine Thai; emailer_for_promotion 0; homepage_featured 0; checkout_price -1.2910; base_price -1.3531; , TabularLine week 1; city_code 647; region_code 56; op_area 2.0; meal_id 2139; center_id 55; center_type TYPE_C; category Beverages; cuisine Indian; emailer_for_promotion 0; homepage_featured 0; checkout_price 0.0445; base_price 0.5120; , TabularLine week 1; city_code 647; region_code 56; op_area 2.0; meal_id 2631; center_id 55; center_type TYPE_C; category Beverages; cuisine Indian; emailer_for_promotion 0; homepage_featured 0; checkout_price -0.5820; base_price -0.6938; ]...\n",
       "Path: .;\n",
       "\n",
       "Test: LabelList\n",
       "y: FloatList (32573 items)\n",
       "[FloatItem 1.7468618656892616, FloatItem 1.7468618656892616, FloatItem 1.7468618656892616, FloatItem 1.7468618656892616, FloatItem 1.7468618656892616]...\n",
       "Path: .\n",
       "x: TabularList (32573 items)\n",
       "[TabularLine week 42; city_code 647; region_code 56; op_area 2.0; meal_id 1885; center_id 55; center_type TYPE_C; category Beverages; cuisine Thai; emailer_for_promotion 0; homepage_featured 0; checkout_price -1.1393; base_price -1.2094; , TabularLine week 42; city_code 647; region_code 56; op_area 2.0; meal_id 1993; center_id 55; center_type TYPE_C; category Beverages; cuisine Thai; emailer_for_promotion 0; homepage_featured 0; checkout_price -1.1262; base_price -1.2094; , TabularLine week 42; city_code 647; region_code 56; op_area 2.0; meal_id 2539; center_id 55; center_type TYPE_C; category Beverages; cuisine Thai; emailer_for_promotion 0; homepage_featured 0; checkout_price -1.1456; base_price -1.2092; , TabularLine week 42; city_code 647; region_code 56; op_area 2.0; meal_id 2631; center_id 55; center_type TYPE_C; category Beverages; cuisine Indian; emailer_for_promotion 0; homepage_featured 0; checkout_price -1.1138; base_price -1.1914; , TabularLine week 42; city_code 647; region_code 56; op_area 2.0; meal_id 1248; center_id 55; center_type TYPE_C; category Beverages; cuisine Indian; emailer_for_promotion 0; homepage_featured 0; checkout_price -1.1013; base_price -1.1796; ]...\n",
       "Path: ., model=TabularModel(\n",
       "  (embeds): ModuleList(\n",
       "    (0): Embedding(53, 15)\n",
       "    (1): Embedding(52, 15)\n",
       "    (2): Embedding(9, 5)\n",
       "    (3): Embedding(31, 11)\n",
       "    (4): Embedding(52, 15)\n",
       "    (5): Embedding(78, 18)\n",
       "    (6): Embedding(4, 3)\n",
       "    (7): Embedding(15, 7)\n",
       "    (8): Embedding(5, 4)\n",
       "    (9): Embedding(3, 3)\n",
       "    (10): Embedding(3, 3)\n",
       "  )\n",
       "  (emb_drop): Dropout(p=0.2)\n",
       "  (bn_cont): BatchNorm1d(2, eps=1e-05, momentum=0.1, affine=True, track_running_stats=True)\n",
       "  (layers): Sequential(\n",
       "    (0): Linear(in_features=101, out_features=500, bias=True)\n",
       "    (1): ReLU(inplace)\n",
       "    (2): BatchNorm1d(500, eps=1e-05, momentum=0.1, affine=True, track_running_stats=True)\n",
       "    (3): Dropout(p=0.1)\n",
       "    (4): Linear(in_features=500, out_features=200, bias=True)\n",
       "    (5): ReLU(inplace)\n",
       "    (6): BatchNorm1d(200, eps=1e-05, momentum=0.1, affine=True, track_running_stats=True)\n",
       "    (7): Dropout(p=0.1)\n",
       "    (8): Linear(in_features=200, out_features=1, bias=True)\n",
       "  )\n",
       "), opt_func=functools.partial(<class 'torch.optim.adam.Adam'>, betas=(0.9, 0.99)), loss_func=MSELossFlat(), metrics=[<function rmsle at 0x7f2a8e903840>, <function exp_rmspe at 0x7f2ab6722840>], true_wd=True, bn_wd=True, wd=0.01, train_bn=True, path=PosixPath('.'), model_dir='models', callback_fns=[<class 'fastai.basic_train.Recorder'>], callbacks=[], layer_groups=[Sequential(\n",
       "  (0): Embedding(53, 15)\n",
       "  (1): Embedding(52, 15)\n",
       "  (2): Embedding(9, 5)\n",
       "  (3): Embedding(31, 11)\n",
       "  (4): Embedding(52, 15)\n",
       "  (5): Embedding(78, 18)\n",
       "  (6): Embedding(4, 3)\n",
       "  (7): Embedding(15, 7)\n",
       "  (8): Embedding(5, 4)\n",
       "  (9): Embedding(3, 3)\n",
       "  (10): Embedding(3, 3)\n",
       "  (11): Dropout(p=0.2)\n",
       "  (12): BatchNorm1d(2, eps=1e-05, momentum=0.1, affine=True, track_running_stats=True)\n",
       "  (13): Linear(in_features=101, out_features=500, bias=True)\n",
       "  (14): ReLU(inplace)\n",
       "  (15): BatchNorm1d(500, eps=1e-05, momentum=0.1, affine=True, track_running_stats=True)\n",
       "  (16): Dropout(p=0.1)\n",
       "  (17): Linear(in_features=500, out_features=200, bias=True)\n",
       "  (18): BatchNorm1d(200, eps=1e-05, momentum=0.1, affine=True, track_running_stats=True)\n",
       "  (19): Dropout(p=0.1)\n",
       "  (20): Linear(in_features=200, out_features=1, bias=True)\n",
       ")])"
      ]
     },
     "execution_count": 124,
     "metadata": {},
     "output_type": "execute_result"
    }
   ],
   "source": [
    "learn.load('all3weekmod0.1500200')"
   ]
  },
  {
   "cell_type": "markdown",
   "metadata": {},
   "source": [
    "## Predictions"
   ]
  },
  {
   "cell_type": "code",
   "execution_count": 125,
   "metadata": {},
   "outputs": [],
   "source": [
    "preds, _ = learn.get_preds(ds_type=DatasetType.Test)\n",
    "key_ids = test_df['id']\n",
    "out = pd.DataFrame({'id': key_ids, 'num_orders': np.exp(preds.numpy()[:,0])})"
   ]
  },
  {
   "cell_type": "code",
   "execution_count": 126,
   "metadata": {},
   "outputs": [
    {
     "data": {
      "text/html": [
       "<div>\n",
       "<style scoped>\n",
       "    .dataframe tbody tr th:only-of-type {\n",
       "        vertical-align: middle;\n",
       "    }\n",
       "\n",
       "    .dataframe tbody tr th {\n",
       "        vertical-align: top;\n",
       "    }\n",
       "\n",
       "    .dataframe thead th {\n",
       "        text-align: right;\n",
       "    }\n",
       "</style>\n",
       "<table border=\"1\" class=\"dataframe\">\n",
       "  <thead>\n",
       "    <tr style=\"text-align: right;\">\n",
       "      <th></th>\n",
       "      <th>id</th>\n",
       "      <th>num_orders</th>\n",
       "    </tr>\n",
       "  </thead>\n",
       "  <tbody>\n",
       "    <tr>\n",
       "      <th>0</th>\n",
       "      <td>1028232</td>\n",
       "      <td>180.607346</td>\n",
       "    </tr>\n",
       "    <tr>\n",
       "      <th>1</th>\n",
       "      <td>1127204</td>\n",
       "      <td>193.797592</td>\n",
       "    </tr>\n",
       "    <tr>\n",
       "      <th>2</th>\n",
       "      <td>1212707</td>\n",
       "      <td>116.030586</td>\n",
       "    </tr>\n",
       "    <tr>\n",
       "      <th>3</th>\n",
       "      <td>1082698</td>\n",
       "      <td>42.932751</td>\n",
       "    </tr>\n",
       "    <tr>\n",
       "      <th>4</th>\n",
       "      <td>1400926</td>\n",
       "      <td>33.976288</td>\n",
       "    </tr>\n",
       "    <tr>\n",
       "      <th>5</th>\n",
       "      <td>1284113</td>\n",
       "      <td>179.684860</td>\n",
       "    </tr>\n",
       "    <tr>\n",
       "      <th>6</th>\n",
       "      <td>1197966</td>\n",
       "      <td>186.828171</td>\n",
       "    </tr>\n",
       "    <tr>\n",
       "      <th>7</th>\n",
       "      <td>1132739</td>\n",
       "      <td>190.003525</td>\n",
       "    </tr>\n",
       "    <tr>\n",
       "      <th>8</th>\n",
       "      <td>1057981</td>\n",
       "      <td>99.459450</td>\n",
       "    </tr>\n",
       "    <tr>\n",
       "      <th>9</th>\n",
       "      <td>1095932</td>\n",
       "      <td>84.345924</td>\n",
       "    </tr>\n",
       "    <tr>\n",
       "      <th>10</th>\n",
       "      <td>1454421</td>\n",
       "      <td>100.980103</td>\n",
       "    </tr>\n",
       "    <tr>\n",
       "      <th>11</th>\n",
       "      <td>1149765</td>\n",
       "      <td>165.804092</td>\n",
       "    </tr>\n",
       "    <tr>\n",
       "      <th>12</th>\n",
       "      <td>1166964</td>\n",
       "      <td>279.113495</td>\n",
       "    </tr>\n",
       "    <tr>\n",
       "      <th>13</th>\n",
       "      <td>1010949</td>\n",
       "      <td>257.843658</td>\n",
       "    </tr>\n",
       "    <tr>\n",
       "      <th>14</th>\n",
       "      <td>1409575</td>\n",
       "      <td>21.487667</td>\n",
       "    </tr>\n",
       "    <tr>\n",
       "      <th>15</th>\n",
       "      <td>1181616</td>\n",
       "      <td>24.376335</td>\n",
       "    </tr>\n",
       "    <tr>\n",
       "      <th>16</th>\n",
       "      <td>1456020</td>\n",
       "      <td>258.964661</td>\n",
       "    </tr>\n",
       "    <tr>\n",
       "      <th>17</th>\n",
       "      <td>1264395</td>\n",
       "      <td>112.275360</td>\n",
       "    </tr>\n",
       "    <tr>\n",
       "      <th>18</th>\n",
       "      <td>1472931</td>\n",
       "      <td>59.329773</td>\n",
       "    </tr>\n",
       "    <tr>\n",
       "      <th>19</th>\n",
       "      <td>1412015</td>\n",
       "      <td>114.996773</td>\n",
       "    </tr>\n",
       "    <tr>\n",
       "      <th>20</th>\n",
       "      <td>1461229</td>\n",
       "      <td>105.957466</td>\n",
       "    </tr>\n",
       "    <tr>\n",
       "      <th>21</th>\n",
       "      <td>1014564</td>\n",
       "      <td>105.821190</td>\n",
       "    </tr>\n",
       "    <tr>\n",
       "      <th>22</th>\n",
       "      <td>1485914</td>\n",
       "      <td>48.308559</td>\n",
       "    </tr>\n",
       "    <tr>\n",
       "      <th>23</th>\n",
       "      <td>1345389</td>\n",
       "      <td>94.073502</td>\n",
       "    </tr>\n",
       "    <tr>\n",
       "      <th>24</th>\n",
       "      <td>1006833</td>\n",
       "      <td>105.912155</td>\n",
       "    </tr>\n",
       "    <tr>\n",
       "      <th>25</th>\n",
       "      <td>1174921</td>\n",
       "      <td>20.136814</td>\n",
       "    </tr>\n",
       "    <tr>\n",
       "      <th>26</th>\n",
       "      <td>1175393</td>\n",
       "      <td>17.841486</td>\n",
       "    </tr>\n",
       "    <tr>\n",
       "      <th>27</th>\n",
       "      <td>1152412</td>\n",
       "      <td>23.472006</td>\n",
       "    </tr>\n",
       "    <tr>\n",
       "      <th>28</th>\n",
       "      <td>1497398</td>\n",
       "      <td>20.855038</td>\n",
       "    </tr>\n",
       "    <tr>\n",
       "      <th>29</th>\n",
       "      <td>1363486</td>\n",
       "      <td>19.559832</td>\n",
       "    </tr>\n",
       "    <tr>\n",
       "      <th>...</th>\n",
       "      <td>...</td>\n",
       "      <td>...</td>\n",
       "    </tr>\n",
       "    <tr>\n",
       "      <th>32543</th>\n",
       "      <td>1234660</td>\n",
       "      <td>1605.727051</td>\n",
       "    </tr>\n",
       "    <tr>\n",
       "      <th>32544</th>\n",
       "      <td>1404408</td>\n",
       "      <td>173.019577</td>\n",
       "    </tr>\n",
       "    <tr>\n",
       "      <th>32545</th>\n",
       "      <td>1234776</td>\n",
       "      <td>278.133789</td>\n",
       "    </tr>\n",
       "    <tr>\n",
       "      <th>32546</th>\n",
       "      <td>1349215</td>\n",
       "      <td>33.347530</td>\n",
       "    </tr>\n",
       "    <tr>\n",
       "      <th>32547</th>\n",
       "      <td>1207249</td>\n",
       "      <td>59.772640</td>\n",
       "    </tr>\n",
       "    <tr>\n",
       "      <th>32548</th>\n",
       "      <td>1414921</td>\n",
       "      <td>209.639587</td>\n",
       "    </tr>\n",
       "    <tr>\n",
       "      <th>32549</th>\n",
       "      <td>1126947</td>\n",
       "      <td>202.607620</td>\n",
       "    </tr>\n",
       "    <tr>\n",
       "      <th>32550</th>\n",
       "      <td>1096124</td>\n",
       "      <td>24.264593</td>\n",
       "    </tr>\n",
       "    <tr>\n",
       "      <th>32551</th>\n",
       "      <td>1498639</td>\n",
       "      <td>26.645027</td>\n",
       "    </tr>\n",
       "    <tr>\n",
       "      <th>32552</th>\n",
       "      <td>1430032</td>\n",
       "      <td>25.504858</td>\n",
       "    </tr>\n",
       "    <tr>\n",
       "      <th>32553</th>\n",
       "      <td>1111480</td>\n",
       "      <td>216.034515</td>\n",
       "    </tr>\n",
       "    <tr>\n",
       "      <th>32554</th>\n",
       "      <td>1449841</td>\n",
       "      <td>237.214554</td>\n",
       "    </tr>\n",
       "    <tr>\n",
       "      <th>32555</th>\n",
       "      <td>1290329</td>\n",
       "      <td>209.418396</td>\n",
       "    </tr>\n",
       "    <tr>\n",
       "      <th>32556</th>\n",
       "      <td>1324280</td>\n",
       "      <td>19.336641</td>\n",
       "    </tr>\n",
       "    <tr>\n",
       "      <th>32557</th>\n",
       "      <td>1457838</td>\n",
       "      <td>24.822872</td>\n",
       "    </tr>\n",
       "    <tr>\n",
       "      <th>32558</th>\n",
       "      <td>1222394</td>\n",
       "      <td>79.649590</td>\n",
       "    </tr>\n",
       "    <tr>\n",
       "      <th>32559</th>\n",
       "      <td>1141545</td>\n",
       "      <td>100.629547</td>\n",
       "    </tr>\n",
       "    <tr>\n",
       "      <th>32560</th>\n",
       "      <td>1363040</td>\n",
       "      <td>140.442886</td>\n",
       "    </tr>\n",
       "    <tr>\n",
       "      <th>32561</th>\n",
       "      <td>1330159</td>\n",
       "      <td>39.978035</td>\n",
       "    </tr>\n",
       "    <tr>\n",
       "      <th>32562</th>\n",
       "      <td>1070377</td>\n",
       "      <td>34.560883</td>\n",
       "    </tr>\n",
       "    <tr>\n",
       "      <th>32563</th>\n",
       "      <td>1001148</td>\n",
       "      <td>33.298820</td>\n",
       "    </tr>\n",
       "    <tr>\n",
       "      <th>32564</th>\n",
       "      <td>1169203</td>\n",
       "      <td>121.073944</td>\n",
       "    </tr>\n",
       "    <tr>\n",
       "      <th>32565</th>\n",
       "      <td>1389523</td>\n",
       "      <td>59.470207</td>\n",
       "    </tr>\n",
       "    <tr>\n",
       "      <th>32566</th>\n",
       "      <td>1304998</td>\n",
       "      <td>114.267708</td>\n",
       "    </tr>\n",
       "    <tr>\n",
       "      <th>32567</th>\n",
       "      <td>1462767</td>\n",
       "      <td>24.634768</td>\n",
       "    </tr>\n",
       "    <tr>\n",
       "      <th>32568</th>\n",
       "      <td>1250239</td>\n",
       "      <td>31.097986</td>\n",
       "    </tr>\n",
       "    <tr>\n",
       "      <th>32569</th>\n",
       "      <td>1039516</td>\n",
       "      <td>25.620699</td>\n",
       "    </tr>\n",
       "    <tr>\n",
       "      <th>32570</th>\n",
       "      <td>1158107</td>\n",
       "      <td>268.212921</td>\n",
       "    </tr>\n",
       "    <tr>\n",
       "      <th>32571</th>\n",
       "      <td>1444235</td>\n",
       "      <td>302.806732</td>\n",
       "    </tr>\n",
       "    <tr>\n",
       "      <th>32572</th>\n",
       "      <td>1291286</td>\n",
       "      <td>162.446426</td>\n",
       "    </tr>\n",
       "  </tbody>\n",
       "</table>\n",
       "<p>32573 rows × 2 columns</p>\n",
       "</div>"
      ],
      "text/plain": [
       "            id   num_orders\n",
       "0      1028232   180.607346\n",
       "1      1127204   193.797592\n",
       "2      1212707   116.030586\n",
       "3      1082698    42.932751\n",
       "4      1400926    33.976288\n",
       "5      1284113   179.684860\n",
       "6      1197966   186.828171\n",
       "7      1132739   190.003525\n",
       "8      1057981    99.459450\n",
       "9      1095932    84.345924\n",
       "10     1454421   100.980103\n",
       "11     1149765   165.804092\n",
       "12     1166964   279.113495\n",
       "13     1010949   257.843658\n",
       "14     1409575    21.487667\n",
       "15     1181616    24.376335\n",
       "16     1456020   258.964661\n",
       "17     1264395   112.275360\n",
       "18     1472931    59.329773\n",
       "19     1412015   114.996773\n",
       "20     1461229   105.957466\n",
       "21     1014564   105.821190\n",
       "22     1485914    48.308559\n",
       "23     1345389    94.073502\n",
       "24     1006833   105.912155\n",
       "25     1174921    20.136814\n",
       "26     1175393    17.841486\n",
       "27     1152412    23.472006\n",
       "28     1497398    20.855038\n",
       "29     1363486    19.559832\n",
       "...        ...          ...\n",
       "32543  1234660  1605.727051\n",
       "32544  1404408   173.019577\n",
       "32545  1234776   278.133789\n",
       "32546  1349215    33.347530\n",
       "32547  1207249    59.772640\n",
       "32548  1414921   209.639587\n",
       "32549  1126947   202.607620\n",
       "32550  1096124    24.264593\n",
       "32551  1498639    26.645027\n",
       "32552  1430032    25.504858\n",
       "32553  1111480   216.034515\n",
       "32554  1449841   237.214554\n",
       "32555  1290329   209.418396\n",
       "32556  1324280    19.336641\n",
       "32557  1457838    24.822872\n",
       "32558  1222394    79.649590\n",
       "32559  1141545   100.629547\n",
       "32560  1363040   140.442886\n",
       "32561  1330159    39.978035\n",
       "32562  1070377    34.560883\n",
       "32563  1001148    33.298820\n",
       "32564  1169203   121.073944\n",
       "32565  1389523    59.470207\n",
       "32566  1304998   114.267708\n",
       "32567  1462767    24.634768\n",
       "32568  1250239    31.097986\n",
       "32569  1039516    25.620699\n",
       "32570  1158107   268.212921\n",
       "32571  1444235   302.806732\n",
       "32572  1291286   162.446426\n",
       "\n",
       "[32573 rows x 2 columns]"
      ]
     },
     "execution_count": 126,
     "metadata": {},
     "output_type": "execute_result"
    }
   ],
   "source": [
    "out"
   ]
  },
  {
   "cell_type": "code",
   "execution_count": null,
   "metadata": {},
   "outputs": [],
   "source": []
  },
  {
   "cell_type": "code",
   "execution_count": 121,
   "metadata": {},
   "outputs": [],
   "source": [
    "learn.save('all3weekmod0.1500200')"
   ]
  },
  {
   "cell_type": "code",
   "execution_count": 122,
   "metadata": {},
   "outputs": [],
   "source": [
    "out.to_csv('all3weekmod.1500200.csv', index=False)"
   ]
  },
  {
   "cell_type": "code",
   "execution_count": null,
   "metadata": {},
   "outputs": [],
   "source": []
  },
  {
   "cell_type": "code",
   "execution_count": null,
   "metadata": {},
   "outputs": [],
   "source": []
  },
  {
   "cell_type": "code",
   "execution_count": null,
   "metadata": {},
   "outputs": [],
   "source": []
  },
  {
   "cell_type": "code",
   "execution_count": null,
   "metadata": {},
   "outputs": [],
   "source": []
  }
 ],
 "metadata": {
  "kernelspec": {
   "display_name": "fastai-v1",
   "language": "python",
   "name": "fastai-v1"
  },
  "language_info": {
   "codemirror_mode": {
    "name": "ipython",
    "version": 3
   },
   "file_extension": ".py",
   "mimetype": "text/x-python",
   "name": "python",
   "nbconvert_exporter": "python",
   "pygments_lexer": "ipython3",
   "version": "3.7.0"
  }
 },
 "nbformat": 4,
 "nbformat_minor": 2
}
